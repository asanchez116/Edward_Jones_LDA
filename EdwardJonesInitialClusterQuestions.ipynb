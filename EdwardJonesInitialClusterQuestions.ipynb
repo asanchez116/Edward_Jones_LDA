{
 "cells": [
  {
   "cell_type": "code",
   "execution_count": 3,
   "metadata": {},
   "outputs": [],
   "source": [
    "import warnings\n",
    "warnings.filterwarnings(\"ignore\", category=DeprecationWarning)\n",
    "\n",
    "#nltk.download('averaged_perceptron_tagger', 'punkt', 'stopwords')\n",
    "\n",
    "import pandas as pd \n",
    "import os \n",
    "import numpy as np\n",
    "from sklearn.feature_extraction.text import TfidfVectorizer\n",
    "from sklearn.cluster import KMeans\n",
    "from sklearn.metrics import adjusted_rand_score \n",
    "import string\n",
    "from nltk.corpus import stopwords\n",
    "import nltk\n",
    "from nltk.tokenize import RegexpTokenizer\n",
    "from nltk.stem import WordNetLemmatizer,PorterStemmer\n",
    "import re \n",
    "from tqdm import tqdm # for progress bar\n",
    "import matplotlib.pyplot as plt\n",
    "import random\n",
    "plt.style.use('fivethirtyeight')"
   ]
  },
  {
   "cell_type": "code",
   "execution_count": 4,
   "metadata": {},
   "outputs": [],
   "source": [
    "old_dir = os.getcwd()\n",
    "os.chdir(\"S:/asanchez/Edward Jones Stuff\")"
   ]
  },
  {
   "cell_type": "code",
   "execution_count": 5,
   "metadata": {},
   "outputs": [],
   "source": [
    "# read in data into dataframe\n",
    "df = pd.read_excel('InsightExchange_AllQuestionText_misc_removed.xlsx')\n",
    "df_deduped = df['QuestionText'].drop_duplicates()"
   ]
  },
  {
   "cell_type": "code",
   "execution_count": 6,
   "metadata": {},
   "outputs": [
    {
     "data": {
      "text/plain": [
       "0    Approximately how much time do you spend on th...\n",
       "1    What is the primary reason that you have <u>no...\n",
       "2    To what extent do you find these communication...\n",
       "3    Please indicate how much you agree or disagree...\n",
       "4    When searching for <b>your Edward Jones' Finan...\n",
       "Name: QuestionText, dtype: object"
      ]
     },
     "execution_count": 6,
     "metadata": {},
     "output_type": "execute_result"
    }
   ],
   "source": [
    "df_deduped.head()"
   ]
  },
  {
   "cell_type": "code",
   "execution_count": 7,
   "metadata": {},
   "outputs": [],
   "source": [
    "tqdm.pandas()\n",
    "lemmatizer = WordNetLemmatizer()\n",
    "stemmer = PorterStemmer() \n",
    "all_stopwords = stopwords.words('english')\n",
    "\n",
    "# add stopwords to nltk stopwords list \n",
    "sw_list = ['nptrust', 'org', 'www', 'com', 'hellip', 'ndash', 'target_blank', \n",
    "          'hrep', 'rsquo', 'ldquo', 'rdquo', 'pfo flag previous pfo', \n",
    "          'toolplease', 'selectedtext', 'pageplease','esg', 'click', 'arrow',\n",
    "           'please', 'select', 'apply', '_', 'blank']\n",
    "\n",
    "all_stopwords.extend(sw_list)"
   ]
  },
  {
   "cell_type": "code",
   "execution_count": 8,
   "metadata": {},
   "outputs": [],
   "source": [
    "def preprocess(sentence):\n",
    "    '''\n",
    "    Takes a sentence returns preprocessed stemmed and lemmatized \n",
    "    lowercased and filtered words (removes stop words, misc characters and numbers) \n",
    "    and returns joined tokens.  \n",
    "    '''\n",
    "    sentence=str(sentence)\n",
    "    sentence = sentence.lower()\n",
    "    sentence=sentence.replace('{html}',\"\") \n",
    "    cleanr = re.compile('<.*?>')\n",
    "    cleantext = re.sub(cleanr, '', sentence)\n",
    "    rem_url=re.sub(r'http\\S+', '',cleantext)\n",
    "    rem_num = re.sub('[0-9]+', '', rem_url)\n",
    "    rem_surv_char = re.sub('![A-Za-z]+\\W[A-Za-z]+\\d*\\w\\w+\\S[A-Za-z0-9]+!?|\\W[A-Z]+\\W', '', rem_num)\n",
    "    rem_pun_char = re.sub(r\"(@\\[A-Za-z0-9]+)|([^0-9A-Za-z \\t])|(\\w+:\\/\\/\\S+)|^rt|http.+?\", \"\", rem_surv_char) #remove punct, URL and @ again \n",
    "    tokenizer = RegexpTokenizer(r'\\w+')\n",
    "    tokens = tokenizer.tokenize(rem_surv_char)  \n",
    "    filtered_words = [w for w in tokens if len(w) > 2 if not w in all_stopwords]\n",
    "    stem_words=[stemmer.stem(w) for w in filtered_words]\n",
    "    lemma_words=[lemmatizer.lemmatize(w) for w in stem_words]\n",
    "    #pos_words= [nltk.pos_tag(w) for w in lemma_words]\n",
    "    return \" \".join(filtered_words)"
   ]
  },
  {
   "cell_type": "code",
   "execution_count": 9,
   "metadata": {},
   "outputs": [],
   "source": [
    "cleaned_docs = df_deduped.map(lambda s:preprocess(s))"
   ]
  },
  {
   "cell_type": "code",
   "execution_count": 10,
   "metadata": {},
   "outputs": [],
   "source": [
    "cleaned_docs_df = pd.DataFrame(cleaned_docs)\n",
    "cleaned_docs = cleaned_docs_df[cleaned_docs_df['QuestionText']!='']\n",
    "cleaned_docs.to_csv('clean_test.csv')\n",
    "cleaned_docs = cleaned_docs_df['QuestionText'].to_list()"
   ]
  },
  {
   "cell_type": "code",
   "execution_count": 11,
   "metadata": {},
   "outputs": [],
   "source": [
    "vectorizer = TfidfVectorizer(\n",
    "    lowercase = True, # lower case text\n",
    "    max_features = 100, # max 100 features \n",
    "    max_df = 0.8, # words occuring in 80% of docs ignored\n",
    "    min_df = 5, # min number of words to be included is 5\n",
    "    ngram_range = (1, 3), # n gram range \n",
    "    stop_words = \"english\" # stop words list removed again \n",
    "      )"
   ]
  },
  {
   "cell_type": "code",
   "execution_count": 12,
   "metadata": {},
   "outputs": [],
   "source": [
    "# pass a list of strings to the vectorizer \n",
    "vectors = vectorizer.fit_transform(cleaned_docs)\n",
    "feature_names = vectorizer.get_feature_names()"
   ]
  },
  {
   "cell_type": "code",
   "execution_count": 18,
   "metadata": {},
   "outputs": [],
   "source": [
    "# return as a dense representation of \"vectors\"\n",
    "dense = vectors.todense()\n",
    "# make dense list \n",
    "denselist = dense.tolist()\n",
    "all_keywords = []\n",
    "\n",
    "# append to keywords list if word not empty\n",
    "for description in denselist:\n",
    "    x = 0\n",
    "    keywords = []\n",
    "    for word in description:\n",
    "        if word > 0:\n",
    "            keywords.append(feature_names[x])\n",
    "        x = x+1\n",
    "    all_keywords.append(keywords)"
   ]
  },
  {
   "cell_type": "markdown",
   "metadata": {},
   "source": [
    "# Clusters"
   ]
  },
  {
   "cell_type": "code",
   "execution_count": 19,
   "metadata": {},
   "outputs": [
    {
     "data": {
      "text/plain": [
       "\"\\n# checking for optimal number of clusters \\nSum_of_squared_distances = []\\n\\nK = range(1, 150)\\n# Calculate the inertia for the range of K values\\nfor k in K:\\n    km = KMeans(n_clusters = k)\\n    km = km.fit(vectors)\\n    Sum_of_squared_distances.append(km.inertia_)\\n\\n# plotting optimal number of clusters \\n# total within-cluster sum of squares\\nplt.plot(K, Sum_of_squared_distances, 'bx')\\nplt.xlabel('k')\\nplt.ylabel('Sum of squared distances')\\nplt.title('Elbow Method for Optimal K')\\nplt.savefig('optimal_number_clusters.png')\\nplt.show()\\n\""
      ]
     },
     "execution_count": 19,
     "metadata": {},
     "output_type": "execute_result"
    }
   ],
   "source": [
    "'''\n",
    "# checking for optimal number of clusters \n",
    "Sum_of_squared_distances = []\n",
    "\n",
    "K = range(1, 150)\n",
    "# Calculate the inertia for the range of K values\n",
    "for k in K:\n",
    "    km = KMeans(n_clusters = k)\n",
    "    km = km.fit(vectors)\n",
    "    Sum_of_squared_distances.append(km.inertia_)\n",
    "\n",
    "# plotting optimal number of clusters \n",
    "# total within-cluster sum of squares\n",
    "plt.plot(K, Sum_of_squared_distances, 'bx')\n",
    "plt.xlabel('k')\n",
    "plt.ylabel('Sum of squared distances')\n",
    "plt.title('Elbow Method for Optimal K')\n",
    "plt.savefig('optimal_number_clusters.png')\n",
    "plt.show()\n",
    "'''"
   ]
  },
  {
   "cell_type": "code",
   "execution_count": 23,
   "metadata": {},
   "outputs": [
    {
     "data": {
      "text/plain": [
       "KMeans(max_iter=100, n_clusters=25, n_init=1)"
      ]
     },
     "execution_count": 23,
     "metadata": {},
     "output_type": "execute_result"
    }
   ],
   "source": [
    "true_k = 25\n",
    "model = KMeans(n_clusters = true_k, init = \"k-means++\", max_iter = 100, n_init = 1)\n",
    "model.fit(vectors)"
   ]
  },
  {
   "cell_type": "code",
   "execution_count": 24,
   "metadata": {},
   "outputs": [],
   "source": [
    "order_centroids = model.cluster_centers_.argsort()[:, ::-1]\n",
    "terms = vectorizer.get_feature_names()"
   ]
  },
  {
   "cell_type": "code",
   "execution_count": 25,
   "metadata": {},
   "outputs": [],
   "source": [
    "folder = \"Results_\" + str(true_k) + '_Clusters'\n",
    "os.mkdir(folder)\n",
    "os.chdir(folder)"
   ]
  },
  {
   "cell_type": "markdown",
   "metadata": {},
   "source": [
    "# Save results to text file "
   ]
  },
  {
   "cell_type": "code",
   "execution_count": 26,
   "metadata": {},
   "outputs": [],
   "source": [
    "results_name = \"cluster_analysis_results_\" + str(true_k)\n",
    "\n",
    "with open(results_name + \".txt\", \"w\", encoding = \"utf-8\") as f:\n",
    "    for i in range(true_k):\n",
    "        f.write(f\"Cluster {i}\")\n",
    "        f.write(\"\\n\")\n",
    "        for ind in order_centroids[i, :10]: # grab first 10 words for each topic\n",
    "            f.write(' %s' %terms[ind],)\n",
    "            f.write(\"\\n\")\n",
    "        f.write(\"\\n\")\n",
    "        f.write(\"\\n\")"
   ]
  },
  {
   "cell_type": "markdown",
   "metadata": {},
   "source": [
    "# Plot Results "
   ]
  },
  {
   "cell_type": "code",
   "execution_count": 27,
   "metadata": {},
   "outputs": [],
   "source": [
    "import matplotlib.pyplot as plt \n",
    "from sklearn.decomposition import PCA\n",
    "import random "
   ]
  },
  {
   "cell_type": "code",
   "execution_count": 28,
   "metadata": {},
   "outputs": [],
   "source": [
    "def rand_color_list(k):\n",
    "    color_list = []\n",
    "    for i in range(k):\n",
    "        r = lambda: random.randint(0,255)\n",
    "        color = ('#%02X%02X%02X' % (r(),r(),r()))\n",
    "        color_list.append(color)\n",
    "    return color_list"
   ]
  },
  {
   "cell_type": "code",
   "execution_count": 29,
   "metadata": {},
   "outputs": [],
   "source": [
    "kmean_indices = model.fit_predict(vectors)\n",
    "pca = PCA(n_components = 2)\n",
    "colors = rand_color_list(true_k)\n",
    "scatter_plot_points = pca.fit_transform(vectors.toarray())"
   ]
  },
  {
   "cell_type": "code",
   "execution_count": null,
   "metadata": {},
   "outputs": [],
   "source": [
    "x_axis = [o[0] for o in scatter_plot_points]\n",
    "y_axis = [o[1] for o in scatter_plot_points]\n",
    "\n",
    "fig, ax = plt.subplots(figsize=(50,50))\n",
    "\n",
    "ax.scatter(x_axis, \n",
    "           y_axis, \n",
    "           c = [colors[d] for d in kmean_indices], \n",
    "           s=500)\n",
    "\n",
    "ax.scatter(cen_x, cen_y, marker='^', c=colors, s=70)\n",
    "\n",
    "\n",
    "for i , txt in enumerate(cleaned_docs):\n",
    "    ax.annotate(txt[0:10], # number of characters to print in graph for each dot\n",
    "                (x_axis[i], y_axis[i]))\n",
    "\n",
    "ax.set_title(str(true_k) + ' Cluster')\n",
    "plot_name = 'cluster_plot_' + str(true_k)\n",
    "plt.savefig(plot_name+'.png')\n",
    "plt.show()\n",
    "\n"
   ]
  },
  {
   "cell_type": "markdown",
   "metadata": {},
   "source": [
    "# Create csv with questions and clusters "
   ]
  },
  {
   "cell_type": "code",
   "execution_count": null,
   "metadata": {},
   "outputs": [],
   "source": [
    "predictions = model.predict(vectors)\n",
    "cleaned_docs = cleaned_docs_df[cleaned_docs_df['QuestionText']!='']\n",
    "cleaned_docs['class'] = model.labels_[1:]\n"
   ]
  },
  {
   "cell_type": "code",
   "execution_count": null,
   "metadata": {},
   "outputs": [],
   "source": [
    "cleaned_docs"
   ]
  },
  {
   "cell_type": "code",
   "execution_count": null,
   "metadata": {},
   "outputs": [],
   "source": [
    "cleaned_docs.to_csv('Questions_'+ str(true_k)+'_clusters.csv')"
   ]
  },
  {
   "cell_type": "code",
   "execution_count": null,
   "metadata": {},
   "outputs": [],
   "source": [
    "os.chdir(old_dir)"
   ]
  },
  {
   "cell_type": "code",
   "execution_count": null,
   "metadata": {},
   "outputs": [],
   "source": []
  }
 ],
 "metadata": {
  "kernelspec": {
   "display_name": "Python 3",
   "language": "python",
   "name": "python3"
  },
  "language_info": {
   "codemirror_mode": {
    "name": "ipython",
    "version": 3
   },
   "file_extension": ".py",
   "mimetype": "text/x-python",
   "name": "python",
   "nbconvert_exporter": "python",
   "pygments_lexer": "ipython3",
   "version": "3.7.4"
  }
 },
 "nbformat": 4,
 "nbformat_minor": 4
}
