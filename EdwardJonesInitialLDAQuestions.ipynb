{
 "cells": [
  {
   "cell_type": "code",
   "execution_count": 1,
   "metadata": {},
   "outputs": [],
   "source": [
    "import os \n",
    "\n",
    "import nltk \n",
    "# nltk.download('stopwords')\n",
    "import numpy as np\n",
    "import pandas as pd\n",
    "\n",
    "#Gensim \n",
    "import gensim \n",
    "import gensim.corpora as corpora\n",
    "from gensim.utils import simple_preprocess\n",
    "from gensim.models import CoherenceModel\n",
    "\n",
    "#Spacy\n",
    "import spacy \n",
    "\n",
    "#NLTK\n",
    "from nltk.corpus import stopwords\n",
    "\n",
    "#Vis\n",
    "import pyLDAvis\n",
    "import pyLDAvis.gensim_models \n",
    "\n",
    "import warnings\n",
    "warnings.filterwarnings(\"ignore\", category=DeprecationWarning)"
   ]
  },
  {
   "cell_type": "code",
   "execution_count": 2,
   "metadata": {
    "scrolled": true
   },
   "outputs": [
    {
     "data": {
      "text/plain": [
       "0    Approximately how much time do you spend on th...\n",
       "1    What is the primary reason that you have <u>no...\n",
       "2    To what extent do you find these communication...\n",
       "3    Please indicate how much you agree or disagree...\n",
       "4    When searching for <b>your Edward Jones' Finan...\n",
       "Name: QuestionText, dtype: object"
      ]
     },
     "execution_count": 2,
     "metadata": {},
     "output_type": "execute_result"
    }
   ],
   "source": [
    "old_dir = os.getcwd()\n",
    "os.chdir(\"S:/asanchez/Edward Jones Stuff\")\n",
    "\n",
    "# read in data into dataframe\n",
    "df = pd.read_excel('InsightExchange_AllQuestionText_misc_removed.xlsx')\n",
    "df_deduped = df['QuestionText'].drop_duplicates()\n",
    "\n",
    "df_deduped.head()"
   ]
  },
  {
   "cell_type": "code",
   "execution_count": 3,
   "metadata": {},
   "outputs": [],
   "source": [
    "stopwords = stopwords.words(\"english\")"
   ]
  },
  {
   "cell_type": "code",
   "execution_count": 4,
   "metadata": {
    "scrolled": true
   },
   "outputs": [
    {
     "data": {
      "text/plain": [
       "'Approximately how much time do you spend on the internet <u>daily</u> (including web brows'"
      ]
     },
     "execution_count": 4,
     "metadata": {},
     "output_type": "execute_result"
    }
   ],
   "source": [
    "df_deduped[0][0:90]"
   ]
  },
  {
   "cell_type": "code",
   "execution_count": 5,
   "metadata": {},
   "outputs": [],
   "source": [
    "def lemmatization(texts, allowed_tags = [\"NOUN\", \"ADJ\", \"VERB\", \"ADV\"]):\n",
    "    nlp = spacy.load(\"en_core_web_lg\", disable = [\"parser\", \"ner\"])\n",
    "    texts_out = []\n",
    "    for text in texts:\n",
    "        doc = nlp(text)\n",
    "        new_text = []\n",
    "        for token in doc:\n",
    "            if token.pos_ in allowed_tags and token.is_oov==False:\n",
    "                new_text.append(token.lemma_)\n",
    "        final = \" \".join(new_text)\n",
    "        texts_out.append(final)\n",
    "    return(texts_out)"
   ]
  },
  {
   "cell_type": "code",
   "execution_count": 6,
   "metadata": {},
   "outputs": [
    {
     "name": "stderr",
     "output_type": "stream",
     "text": [
      "C:\\Users\\asanchez\\AppData\\Local\\Continuum\\anaconda3\\lib\\site-packages\\spacy\\util.py:833: UserWarning: [W095] Model 'en_core_web_lg' (3.1.0) was trained with spaCy v3.1 and may not be 100% compatible with the current version (3.2.0). If you see errors or degraded performance, download a newer compatible model or retrain your custom model with the current spaCy version. For more details and available updates, run: python -m spacy validate\n",
      "  warnings.warn(warn_msg)\n"
     ]
    },
    {
     "name": "stdout",
     "output_type": "stream",
     "text": [
      "approximately how much time do spend internet include web browser mobile app\n"
     ]
    }
   ],
   "source": [
    "lemmatized_texts = lemmatization(df_deduped)\n",
    "print(lemmatized_texts[0][0:90])"
   ]
  },
  {
   "cell_type": "code",
   "execution_count": 7,
   "metadata": {},
   "outputs": [],
   "source": [
    "def gen_words(texts):\n",
    "    final = []\n",
    "    for text in texts:\n",
    "        new = gensim.utils.simple_preprocess(text, deacc = True) # remove accents if there\n",
    "        final.append(new)\n",
    "    return final"
   ]
  },
  {
   "cell_type": "code",
   "execution_count": 8,
   "metadata": {},
   "outputs": [],
   "source": [
    "data_words = gen_words(lemmatized_texts)"
   ]
  },
  {
   "cell_type": "code",
   "execution_count": 9,
   "metadata": {},
   "outputs": [
    {
     "name": "stdout",
     "output_type": "stream",
     "text": [
      "['approximately', 'how', 'much', 'time', 'do', 'spend', 'internet', 'include', 'web', 'browser', 'mobile', 'app']\n"
     ]
    }
   ],
   "source": [
    "print(data_words[0][0:20])"
   ]
  },
  {
   "cell_type": "code",
   "execution_count": 10,
   "metadata": {},
   "outputs": [],
   "source": [
    "# bigrams and trigrams \n",
    "bigram_phrases = gensim.models.Phrases(data_words, min_count = 5, threshold = 100)\n",
    "trigram_phrases = gensim.models.Phrases(bigram_phrases[data_words], threshold = 100)\n",
    "\n",
    "bigram = gensim.models.phrases.Phraser(bigram_phrases)                                    \n",
    "trigram = gensim.models.phrases.Phraser(trigram_phrases)\n",
    "\n",
    "# create a function to reinject above so model can process them\n",
    "def make_bigrams(texts):\n",
    "    return([bigram[doc] for doc in texts])\n",
    "\n",
    "def make_trigrams(texts):\n",
    "    return ([trigram[bigram[doc]] for doc in texts])\n",
    "\n",
    "data_bigrams = make_bigrams(data_words)\n",
    "data_bigrams_trigrams = make_trigrams(data_bigrams)"
   ]
  },
  {
   "cell_type": "code",
   "execution_count": 11,
   "metadata": {},
   "outputs": [],
   "source": [
    "# TF-IDF Removal\n",
    "from gensim.models import TfidfModel\n",
    "\n",
    "id2word = corpora.Dictionary(data_bigrams_trigrams)\n",
    "texts = data_bigrams_trigrams\n",
    "corpus = [id2word.doc2bow(text) for text in texts]\n",
    "tfidf = TfidfModel(corpus, id2word=id2word) # create tfidf model\n",
    "\n",
    "low_value = 0.03\n",
    "words = []\n",
    "words_missing_in_tfidf = []\n",
    "\n",
    "# goes through and looks for words that occur with n threshold (low value) if that occurs \n",
    "# then it doesnt lend value to clustering algorithm and is excluded \n",
    "for i in range(0, len(corpus)):\n",
    "    bow = corpus[i]\n",
    "    low_value_words = []\n",
    "    tfidf_ids = [id for id, value in tfidf[bow]]\n",
    "    bow_ids=[id for id, value in bow]\n",
    "    low_value_words = [id for id, value in tfidf[bow] if value < low_value]\n",
    "    drops = low_value_words + words_missing_in_tfidf\n",
    "    for item in drops:\n",
    "        words.append(id2word[item])\n",
    "    words_missing_in_tfidf = [id for id in bow_ids if id not in tfidf_ids] # the words with tfidf score 0 will be missing\n",
    "    \n",
    "    new_bow = [b for b in bow if b[0] not in low_value_words and b[0] not in words_missing_in_tfidf] \n",
    "    corpus[i] = new_bow"
   ]
  },
  {
   "cell_type": "code",
   "execution_count": 12,
   "metadata": {},
   "outputs": [
    {
     "data": {
      "text/plain": [
       "' without tfidf removal \\nid2word = corpora.Dictionary(data_words)\\ncorpus = []\\nfor text in data_words:\\n    new = id2word.doc2bow(text) #create bag of words\\n    corpus.append(new)\\n'"
      ]
     },
     "execution_count": 12,
     "metadata": {},
     "output_type": "execute_result"
    }
   ],
   "source": [
    "''' without tfidf removal \n",
    "id2word = corpora.Dictionary(data_words)\n",
    "corpus = []\n",
    "for text in data_words:\n",
    "    new = id2word.doc2bow(text) #create bag of words\n",
    "    corpus.append(new)\n",
    "'''"
   ]
  },
  {
   "cell_type": "code",
   "execution_count": 13,
   "metadata": {},
   "outputs": [
    {
     "data": {
      "text/plain": [
       "'print(corpus[0][0:20])\\nword = id2word[[0][:1][0]]'"
      ]
     },
     "execution_count": 13,
     "metadata": {},
     "output_type": "execute_result"
    }
   ],
   "source": [
    "'''print(corpus[0][0:20])\n",
    "word = id2word[[0][:1][0]]'''"
   ]
  },
  {
   "cell_type": "code",
   "execution_count": 14,
   "metadata": {},
   "outputs": [
    {
     "data": {
      "text/plain": [
       "'\\n#checking to make sure word map makes sense\\nprint(word)'"
      ]
     },
     "execution_count": 14,
     "metadata": {},
     "output_type": "execute_result"
    }
   ],
   "source": [
    "'''\n",
    "#checking to make sure word map makes sense\n",
    "print(word)'''"
   ]
  },
  {
   "cell_type": "code",
   "execution_count": 15,
   "metadata": {},
   "outputs": [],
   "source": [
    "'''# create LDA model\n",
    "lda_model = gensim.models.ldamodel.LdaModel(\n",
    "    corpus = corpus, \n",
    "    id2word = id2word, \n",
    "    num_topics = 30, # number of topics \n",
    "    random_state = 100, \n",
    "    update_every = 1, \n",
    "    chunksize=100, \n",
    "    passes=10, \n",
    "    alpha = \"auto\"\n",
    ")'''\n",
    "\n",
    "# create LDA model for train_test_split\n",
    "lda_model = gensim.models.ldamodel.LdaModel(\n",
    "    corpus = corpus[:-1], # training model to everything except second to last item in corpus \n",
    "    id2word = id2word, \n",
    "    num_topics = 25, # number of topics \n",
    "    random_state = 100, \n",
    "    update_every = 1, \n",
    "    chunksize=100, \n",
    "    passes=10, \n",
    "    alpha = \"auto\"\n",
    ")"
   ]
  },
  {
   "cell_type": "code",
   "execution_count": 16,
   "metadata": {},
   "outputs": [
    {
     "name": "stdout",
     "output_type": "stream",
     "text": [
      "[(0, 0.087858364), (2, 0.025184842), (3, 0.022488466), (5, 0.16575836), (7, 0.02424734), (8, 0.015853774), (10, 0.08912644), (12, 0.012440146), (13, 0.23622794), (15, 0.020968262), (16, 0.010925544), (18, 0.0132486), (19, 0.09862222), (21, 0.013852575), (23, 0.08812964), (24, 0.013483859)]\n"
     ]
    }
   ],
   "source": [
    "# testing model with unseen data \n",
    "test_doc = corpus[-1]\n",
    "vector = lda_model[test_doc]\n",
    "print(vector)\n",
    "# different documents and degree to which document falls into that catagory\n",
    "# organized in ascending order from topic "
   ]
  },
  {
   "cell_type": "code",
   "execution_count": 17,
   "metadata": {},
   "outputs": [
    {
     "data": {
      "text/plain": [
       "[(13, 0.23622794),\n",
       " (5, 0.16575836),\n",
       " (19, 0.09862222),\n",
       " (10, 0.08912644),\n",
       " (23, 0.08812964),\n",
       " (0, 0.087858364),\n",
       " (2, 0.025184842),\n",
       " (7, 0.02424734),\n",
       " (3, 0.022488466),\n",
       " (15, 0.020968262),\n",
       " (8, 0.015853774),\n",
       " (21, 0.013852575),\n",
       " (24, 0.013483859),\n",
       " (18, 0.0132486),\n",
       " (12, 0.012440146),\n",
       " (16, 0.010925544)]"
      ]
     },
     "execution_count": 17,
     "metadata": {},
     "output_type": "execute_result"
    }
   ],
   "source": [
    "# organize list by most represented topic \n",
    "# sort list of lists\n",
    "def Sort(sub_li):\n",
    "    sub_li.sort(key = lambda x: x[1])\n",
    "    sub_li.reverse()\n",
    "    return (sub_li)\n",
    "\n",
    "new_vector = Sort(vector)\n",
    "new_vector"
   ]
  },
  {
   "cell_type": "code",
   "execution_count": 18,
   "metadata": {},
   "outputs": [
    {
     "data": {
      "text/plain": [
       "\"#Saving the model (one way)\\nos.mkdir('models')\\nlda_model.save('models/test_model.model') \""
      ]
     },
     "execution_count": 18,
     "metadata": {},
     "output_type": "execute_result"
    }
   ],
   "source": [
    "'''#Saving the model (one way)\n",
    "os.mkdir('models')\n",
    "lda_model.save('models/test_model.model') '''"
   ]
  },
  {
   "cell_type": "code",
   "execution_count": 19,
   "metadata": {},
   "outputs": [],
   "source": [
    "# Vusalizing the Data"
   ]
  },
  {
   "cell_type": "code",
   "execution_count": 20,
   "metadata": {},
   "outputs": [],
   "source": [
    "pyLDAvis.enable_notebook()"
   ]
  },
  {
   "cell_type": "code",
   "execution_count": 21,
   "metadata": {},
   "outputs": [
    {
     "name": "stderr",
     "output_type": "stream",
     "text": [
      "C:\\Users\\asanchez\\AppData\\Local\\Continuum\\anaconda3\\lib\\site-packages\\pyLDAvis\\_prepare.py:247: FutureWarning: In a future version of pandas all arguments of DataFrame.drop except for the argument 'labels' will be keyword-only\n",
      "  by='saliency', ascending=False).head(R).drop('saliency', 1)\n"
     ]
    }
   ],
   "source": [
    "vis = pyLDAvis.gensim_models.prepare(lda_model, \n",
    "                                     corpus, \n",
    "                                     id2word, \n",
    "                                     mds=\"mmds\", \n",
    "                                     R=30)\n"
   ]
  },
  {
   "cell_type": "code",
   "execution_count": 22,
   "metadata": {},
   "outputs": [
    {
     "data": {
      "text/html": [
       "\n",
       "<link rel=\"stylesheet\" type=\"text/css\" href=\"https://cdn.jsdelivr.net/gh/bmabey/pyLDAvis@3.3.1/pyLDAvis/js/ldavis.v1.0.0.css\">\n",
       "\n",
       "\n",
       "<div id=\"ldavis_el634823950707292887393767696\"></div>\n",
       "<script type=\"text/javascript\">\n",
       "\n",
       "var ldavis_el634823950707292887393767696_data = {\"mdsDat\": {\"x\": [0.22361670684545087, 0.43916489940114584, -0.4493147408784438, 0.4161433069387496, -0.44415655723683783, -0.28873557920084175, 0.3058483132982665, -0.38447686718692686, 0.2630680830865811, 0.40336116450548043, 0.31004813039524387, 0.21970422359985342, 0.12058767566426917, -0.26708097947064796, -0.13672603205473363, -0.16905673729881115, -0.30194089422962583, 0.08842738921090701, 0.0326519202729178, 0.005805401110524772, -0.0931043035895096, -0.1994667453659271, -0.12697004846083831, -0.007019472038528036, 0.039621742682281455], \"y\": [0.48561974585485823, -0.02221215692230786, -0.12860705154841967, 0.1132828013472292, 0.0012634160765178785, -0.18381637827518368, -0.096457826565831, 0.1402377950925087, -0.366764189533072, -0.255551698260642, 0.26845352930691874, 0.11253877165685401, -0.3833319252869204, -0.3662590785147566, -0.3586595757539264, 0.09350219223591145, 0.2878434064315424, 0.2605121263952134, -0.18107876576215615, 0.420144760412995, 0.27315430178139954, 0.37290899153999474, -0.10488906376210222, -0.37548337068423465, -0.006350757262391112], \"topics\": [1, 2, 3, 4, 5, 6, 7, 8, 9, 10, 11, 12, 13, 14, 15, 16, 17, 18, 19, 20, 21, 22, 23, 24, 25], \"cluster\": [1, 1, 1, 1, 1, 1, 1, 1, 1, 1, 1, 1, 1, 1, 1, 1, 1, 1, 1, 1, 1, 1, 1, 1, 1], \"Freq\": [19.828053533753987, 7.021293237457632, 5.653082904644225, 5.608744421627972, 5.3133713159173634, 5.151643279148834, 5.059265070605753, 3.9154149996520693, 3.876235971234559, 3.439110231212566, 3.289304409955571, 3.200728465059255, 3.143135009278586, 3.051553667352294, 2.75305435659365, 2.63333694072426, 2.4825632244028744, 2.3331862898628026, 2.2828569893553228, 2.20582029742486, 2.1189244769743634, 2.0335276848542136, 1.8429274854559234, 1.4117352850330633, 0.35113045241800084]}, \"tinfo\": {\"Term\": [\"be\", \"account\", \"have\", \"video\", \"how\", \"make\", \"financial\", \"select\", \"review\", \"other\", \"click\", \"find\", \"much\", \"use\", \"do\", \"follow\", \"access\", \"again\", \"as\", \"apply\", \"app\", \"feel\", \"more\", \"like\", \"think\", \"client\", \"site\", \"possible\", \"include\", \"most\", \"easy\", \"be\", \"future\", \"compare\", \"ask\", \"different\", \"last\", \"go\", \"open\", \"week\", \"level\", \"information\", \"provide\", \"complete\", \"window\", \"webpage\", \"how\", \"reference\", \"knowledge\", \"activity\", \"helpful\", \"describe\", \"look\", \"time\", \"screen\", \"detail\", \"see\", \"experience\", \"today\", \"offering\", \"right\", \"watch\", \"page\", \"more\", \"investment\", \"amount\", \"now\", \"bank\", \"letter\", \"ve\", \"message\", \"total\", \"investible_asset\", \"opinion\", \"text\", \"market_cd_annuity_brokerage\", \"mutual_fund_money\", \"value_primary_residence\", \"property_that_is_property\", \"rental\", \"chance\", \"question\", \"planner\", \"investible\", \"interested_gather\", \"value\", \"have\", \"such\", \"include\", \"retirement\", \"account\", \"do\", \"provide\", \"asset\", \"right\", \"base\", \"video\", \"file\", \"expect\", \"arrow\", \"image\", \"show\", \"continue\", \"update\", \"pandemic\", \"frequently\", \"minute\", \"property\", \"engage\", \"example\", \"exercise\", \"intend\", \"introduce\", \"below\", \"click\", \"take\", \"do\", \"watch\", \"button\", \"see\", \"data\", \"play\", \"sound\", \"mp\", \"able\", \"clip\", \"have\", \"be\", \"select\", \"apply\", \"work\", \"note\", \"past\", \"day\", \"point\", \"follow\", \"time\", \"have\", \"do\", \"ethnic_background\", \"webinar\", \"word\", \"interaction\", \"certification\", \"year\", \"people\", \"visit\", \"see\", \"accurately\", \"professional\", \"management\", \"cash\", \"highlight\", \"early\", \"represent\", \"accept\", \"up\", \"dedicated\", \"able\", \"button\", \"need\", \"link\", \"outside\", \"set\", \"same\", \"screen\", \"research\", \"detail\", \"well\", \"be\", \"review\", \"again\", \"page\", \"name\", \"content\", \"impact\", \"specifically\", \"regularly\", \"feeling\", \"click\", \"portion\", \"read\", \"do\", \"information\", \"description\", \"offering\", \"concept\", \"prefer\", \"campaign\", \"loan\", \"appealing\", \"landing\", \"preferred\", \"prepare\", \"report\", \"word\", \"advise\", \"potential\", \"fit\", \"material\", \"watch\", \"see\", \"button\", \"well\", \"need\", \"be\", \"how\", \"feel\", \"have\", \"statement\", \"feel\", \"overall\", \"rate\", \"base\", \"mean\", \"month\", \"extent\", \"communication\", \"basis\", \"non\", \"advice_guidance\", \"typically\", \"receive\", \"newsletter\", \"somewhat\", \"monthly\", \"scale\", \"neutral\", \"read\", \"totally\", \"where\", \"do\", \"how\", \"fit\", \"design\", \"well\", \"debit_card\", \"improvement\", \"card\", \"annual\", \"today\", \"screen\", \"experience\", \"detail\", \"right\", \"provide\", \"app\", \"site\", \"post\", \"sign\", \"mobile\", \"computer\", \"comfortable\", \"tablet\", \"reason\", \"form\", \"applicable\", \"primary\", \"satisfied\", \"mail\", \"include\", \"task\", \"sample\", \"use\", \"participate\", \"do\", \"right\", \"material\", \"law\", \"copyright\", \"damage\", \"limit\", \"trademark\", \"privacy\", \"forum\", \"person\", \"be\", \"have\", \"much\", \"agree\", \"statement\", \"why\", \"disagree\", \"explain\", \"indicate\", \"scale\", \"follow\", \"below\", \"do\", \"how\", \"watch\", \"detail\", \"loan\", \"strongly\", \"webinar\", \"above\", \"close\", \"meet\", \"believe\", \"right\", \"accurately\", \"experience\", \"detailed\", \"expectation\", \"opportunity\", \"improvement\", \"add\", \"exceed\", \"advise\", \"use\", \"screen\", \"answer\", \"campaign\", \"prefer\", \"material\", \"see\", \"idea\", \"check\", \"fund\", \"offer\", \"option\", \"interview\", \"confirm\", \"personal\", \"way\", \"allow\", \"box\", \"saving\", \"charitable\", \"additional\", \"donor_advise\", \"charity\", \"schedule\", \"choose\", \"public\", \"call\", \"suggestion\", \"date\", \"favorite\", \"tax\", \"establish\", \"multiple\", \"identity\", \"where\", \"receive\", \"below\", \"have\", \"make\", \"as\", \"possible\", \"change\", \"at_all\", \"specific\", \"very\", \"interest\", \"insight\", \"confident\", \"rating\", \"achieve\", \"detail\", \"screen\", \"improvement\", \"detailed\", \"experience\", \"preferred\", \"individual\", \"team\", \"try\", \"first\", \"insert\", \"see\", \"least\", \"strong\", \"fit\", \"nd\", \"job\", \"display\", \"campaign\", \"loan\", \"answer\", \"well\", \"material\", \"able\", \"right\", \"be\", \"client\", \"website\", \"view\", \"want\", \"also\", \"tool\", \"resource\", \"give\", \"partner\", \"reaction\", \"satisfaction\", \"emergency\", \"edition\", \"development\", \"use\", \"data\", \"beta\", \"material\", \"clip\", \"experience\", \"datum\", \"part\", \"pyramid_graphic\", \"today\", \"law\", \"copyright\", \"start\", \"report\", \"able\", \"visit\", \"button\", \"right\", \"see\", \"limit\", \"person\", \"how\", \"be\", \"think\", \"firm\", \"security\", \"account\", \"use\", \"do\", \"outside\", \"link\", \"transfer\", \"individual\", \"electronic_fund\", \"set\", \"management\", \"ability\", \"asset\", \"wealth\", \"connect\", \"laptop\", \"visible\", \"hold\", \"cost_basis\", \"benefit\", \"communicate\", \"switch\", \"sometimes\", \"refer\", \"get\", \"help\", \"balance\", \"traditional\", \"start\", \"loan\", \"dedicated\", \"well\", \"prefer\", \"detail\", \"watch\", \"download\", \"able\", \"webinar\", \"see\", \"material\", \"need\", \"own\", \"how\", \"more\", \"like\", \"next\", \"few\", \"create\", \"less\", \"spend\", \"learn\", \"browser\", \"family\", \"internet\", \"remember\", \"cause\", \"activity\", \"time\", \"do\", \"same\", \"answer\", \"result\", \"sound\", \"button\", \"hear\", \"save\", \"able\", \"play\", \"report\", \"ahead\", \"save_invest\", \"see\", \"category\", \"prefer\", \"total\", \"most\", \"new\", \"source\", \"available\", \"important\", \"email\", \"second\", \"top\", \"rank\", \"one\", \"notification\", \"third\", \"delivery\", \"assessment\", \"ranked\", \"enrol\", \"value\", \"question\", \"prefer\", \"preferred\", \"data\", \"button\", \"clip\", \"play\", \"store\", \"mp\", \"criterion\", \"preference\", \"start\", \"ensure\", \"see\", \"when\", \"be\", \"receive\", \"use\", \"find\", \"goal\", \"mention\", \"term\", \"consider\", \"so_on\", \"previous\", \"perspective\", \"accomplish\", \"look\", \"priority\", \"below\", \"screen\", \"save_invest\", \"detail\", \"word\", \"set\", \"first\", \"able\", \"confusing\", \"short\", \"accept\", \"see\", \"register\", \"highlight\", \"tab\", \"instead\", \"highlight_text\", \"only\", \"color\", \"section\", \"do\", \"need\", \"capability\", \"prefer\", \"loan\", \"button\", \"be\", \"watch\", \"following\", \"good\", \"often\", \"current\", \"relate\", \"document\", \"household\", \"number\", \"age\", \"guidance\", \"else\", \"child\", \"search\", \"again_market_news\", \"describe\", \"give\", \"taxis\", \"annual\", \"income\", \"live\", \"employment_status\", \"environment\", \"employment\", \"involvement\", \"education\", \"high\", \"assist\", \"fine\", \"exact\", \"guess\", \"do\", \"opportunity\", \"know\", \"visit\", \"right\", \"how\", \"material\", \"need\", \"see\", \"type\", \"access\", \"online\", \"ever\", \"phone\", \"user\", \"process\", \"enter\", \"code\", \"primarily\", \"authentication\", \"zip\", \"take\", \"system\", \"have\", \"high_speed_internet_connection\", \"same\", \"material\", \"research\", \"right\", \"place\", \"login\", \"need\", \"forum\", \"portal\", \"able\", \"law\", \"copyright\", \"laptop_desktop\", \"person\", \"survey\", \"limit\", \"damage\", \"follow\", \"financial\", \"topic\", \"advisor\", \"share\", \"many\", \"dedicated\", \"talk\", \"conversation\", \"help\", \"person\", \"support\", \"webinar\", \"imagine\", \"need\", \"attend\", \"personally\", \"knowledgeable\", \"assume\", \"interesting\", \"advantage\", \"institution\", \"group\", \"management\", \"seek\", \"finance\", \"discuss\", \"start\", \"description\", \"beneficial\", \"life\", \"meet\", \"appealing\", \"asset\", \"beta\", \"own\", \"see\", \"prefer\", \"experience\", \"watch\", \"today\", \"research\", \"page\", \"like\", \"community\", \"plan\", \"company\", \"market\", \"web\", \"approximately\", \"friend\", \"stock_bond_mutual_fund\", \"retirement\", \"participate\", \"recommend\", \"such\", \"service\", \"do\", \"material\", \"save_invest\", \"campaign\", \"right\", \"survey\", \"retire\", \"discussion\", \"live\", \"walk\", \"copyright\", \"participation\", \"incentive\", \"in\", \"prepare\", \"forum\", \"law\", \"damage\", \"trademark\", \"purpose\", \"order\", \"limit\", \"research\", \"financial\", \"be\", \"other\", \"type\", \"response\", \"member\", \"so\", \"tell\", \"keep\", \"worry\", \"bit\", \"portion\", \"right\", \"material\", \"law\", \"damage\", \"copyright\", \"limit\", \"trademark\", \"privacy\", \"jurisdiction\", \"violate\", \"claim\", \"person\", \"limitation\", \"responsible\", \"purpose\", \"forum\", \"liability\", \"own\", \"third_party\", \"survey\", \"be\", \"understand\", \"list\", \"say\", \"decision\", \"contact\", \"item\", \"situation\", \"role\", \"leave\", \"utilize\", \"below\", \"event\", \"help\", \"personally\", \"by\", \"necessary\", \"present\", \"reminder\", \"distribution\", \"special\", \"only\", \"earn\", \"emotion\", \"reward\", \"detail\", \"reach\", \"balance\", \"title\", \"branch\", \"office\", \"campaign\", \"experience\", \"first\", \"well\", \"screen\", \"opportunity\", \"research\", \"make\", \"when\", \"password\", \"setting\", \"require\", \"log\", \"action\", \"prompt\", \"take\", \"example\", \"screen\", \"store\", \"order\", \"login\", \"beta\", \"see\", \"first\", \"address\", \"device\", \"ensure\", \"icon\", \"own\", \"correct\", \"double\", \"initial\", \"scroll\", \"profile\", \"complete_task\", \"picture\", \"part\", \"identifiable\", \"survey\", \"material\", \"right\", \"today\", \"experience\", \"notice\", \"copyright\", \"need\", \"detail\", \"law\", \"trademark\", \"currently\", \"smartphone\", \"product\", \"area\", \"local\", \"banking\", \"transaction\", \"service\", \"print_directory\", \"look\", \"word\", \"offering\", \"download\", \"today\", \"font\", \"balance\", \"insert\", \"wealth\", \"highlight_text\", \"size\", \"span\", \"style\", \"explore\", \"traditional\", \"separately\", \"management\", \"organization\", \"branch\", \"report\", \"clear\", \"do\", \"use\", \"aware\", \"part\", \"see\", \"have\", \"need\", \"material\", \"right\", \"screen\", \"then\", \"just\", \"interested\", \"business\", \"here\", \"main\", \"general\", \"key\", \"takeaway\", \"watch\", \"prefer\", \"donor\", \"recommend_grant\", \"explore\", \"webinar\", \"section\", \"assume\", \"landing\", \"first\", \"data\", \"refer\", \"discussion\", \"study\", \"owner\", \"attend\", \"pyramid_graphic\", \"contribute\", \"contribution\", \"philanthropic\", \"vehicle\", \"advise\", \"read\", \"screen\", \"button\", \"survey\", \"see\", \"today\", \"well\", \"purpose\", \"research\", \"activity\", \"be\", \"need\", \"likely\", \"capability\", \"extremely\", \"wealth\", \"watch\", \"borrowing\", \"today\", \"support\", \"webinar\", \"management\", \"assume\", \"navigate\", \"offering\", \"send\", \"branch\", \"start\", \"separate\", \"team\", \"switch\", \"stay\", \"attend\", \"social_medium\", \"even\", \"through\", \"personally\", \"least\", \"concept\", \"large\", \"virtually\", \"after\", \"device\", \"need\", \"see\", \"set\", \"own\", \"screen\", \"download\"], \"Freq\": [2300.0, 384.0, 576.0, 354.0, 750.0, 257.0, 214.0, 283.0, 277.0, 180.0, 294.0, 173.0, 190.0, 296.0, 728.0, 242.0, 155.0, 194.0, 167.0, 187.0, 177.0, 175.0, 145.0, 142.0, 138.0, 138.0, 159.0, 139.0, 195.0, 132.0, 131.60197981126518, 2270.3638621836194, 86.04184536732842, 73.25140823173888, 48.828926552072794, 40.73538219113792, 38.422183540748755, 38.12214997811601, 25.55358543589893, 22.97843448474164, 20.328561367927787, 333.0320593846838, 247.79211183050336, 16.0806366168756, 16.071605653831575, 10.813742652878572, 672.1162161398768, 8.227010361064231, 5.987175589943999, 81.59570210843214, 3.2226447384747905, 100.0922223903471, 8.49744528343062, 16.519338498574008, 0.057712368114601294, 0.05771215171465047, 0.05771167884068386, 0.05771139431482259, 0.057711254055595206, 0.05771122199634323, 0.05771157064070844, 0.05771134622594463, 0.05777870672174819, 0.05773654880540257, 160.35025928859358, 101.98617905667273, 81.44145077545004, 66.7242362829928, 49.229628238700315, 44.70885255866336, 34.192949027541665, 24.809499738879, 20.967627273339748, 20.49978629939889, 17.04372348479491, 11.852506086644105, 11.852506086644105, 11.852506086644105, 11.659330254981109, 11.659330254981109, 10.785226291215922, 124.65467754000883, 9.329647656580866, 8.578990284314537, 6.8407703518716545, 37.57343526187355, 373.02702833628535, 31.05265129746542, 53.09196494150109, 16.55926903186442, 51.33034620337023, 49.35453811834249, 17.31508278742426, 0.057916545332611084, 0.057916806439451456, 0.06146571952763928, 353.3759206377727, 150.0450288887682, 101.88867301535488, 72.00069285049472, 49.921642655016, 37.131630688314345, 36.16162920446696, 32.11993802583027, 27.92607566636476, 16.145325315405632, 15.142397828282478, 10.644187257391474, 3.78541167952289, 13.70534035034367, 1.9783149984669117, 1.8388604817057235, 0.8671774820921386, 54.51293824167042, 100.28532184706297, 35.378974725436215, 65.71505178681173, 0.045544409524180283, 0.04554335382389004, 0.045543477217430454, 0.045543248710874125, 0.045542864819859495, 0.04554278712763034, 0.04554272314579457, 0.04554285567959724, 0.04554270486527006, 4.6030360707134115, 0.0537900823197451, 281.80460841633567, 186.15622109922603, 79.66443688125568, 68.99538409411312, 28.49450683006348, 24.222676736562935, 10.808762787295718, 194.74729207599984, 87.4231469275646, 131.3947763040274, 68.75960235721675, 0.0534081408865213, 0.05340822250367819, 0.053408136352234806, 0.05340804566650493, 0.053408027529358956, 0.053408050200791424, 0.05340804113221844, 0.05340806380365091, 0.053408403875137934, 0.053408000323639994, 0.05340800485792649, 0.05340803206364545, 0.0534079957893535, 0.053408000323639994, 0.053408000323639994, 0.053408027529358956, 0.053408000323639994, 0.053408000323639994, 0.05340803206364545, 0.05340815448938078, 0.05340812274937533, 0.05340815448938078, 0.05340804113221844, 0.053408050200791424, 0.0534080683379374, 0.05340804566650493, 0.05340814995509429, 0.05340806380365091, 0.05340808194079688, 0.05340804566650493, 0.05345498913457447, 275.8892259161834, 193.57682011730915, 125.4247845951796, 88.7186786462843, 59.16285815611084, 34.85178598903987, 20.99243758111853, 5.515734973568166, 2.715699584114793, 193.21763130136264, 5.462169500852091, 26.36989354776149, 44.54769132274594, 20.6071761261012, 0.053341750318364044, 0.05334172454537888, 0.053341569907467905, 0.05334170736338877, 0.053341501179507464, 0.053341441042542084, 0.05334135942808907, 0.053341221972168194, 0.05334125633614842, 0.053341191903685505, 0.05334119619918303, 0.05334115324420776, 0.053341118880227543, 0.05334106733425722, 0.053341088811744854, 0.05334137231458165, 0.053341290700128635, 0.053341393792069286, 0.05334118331269045, 0.05334118331269045, 0.05334118760818798, 0.08550810675072364, 0.06698682346783279, 0.053723942210848426, 0.053523518591725876, 0.0533419006607775, 173.91477554855874, 101.40448706430412, 96.62452837618223, 70.99844612010816, 49.04056500499924, 38.843223421328254, 27.976758074255056, 21.332999406554656, 12.92265685348113, 11.121663191788285, 10.189592613779066, 6.796993800989574, 78.64753234452905, 6.398175601533099, 6.372540456777839, 4.886644560888083, 24.621554331634666, 1.2145476114494749, 28.67363867339835, 1.165677951318824, 25.78719003571464, 188.89632773173423, 43.46781888811691, 0.0727992392073705, 0.07279893101576217, 0.07279912259432951, 0.07279889769775046, 0.07279888936824752, 0.07279880607321824, 0.07279880607321824, 0.07279890602725338, 0.07279923087786756, 0.07279893101576217, 0.0727990309697973, 0.07279896433377388, 0.07970458871323724, 176.04737641156456, 157.9269585569978, 58.22949596372408, 48.868253696455, 45.4467783458351, 28.569025582635643, 18.920811963234975, 16.140546505835765, 16.101712174672617, 14.587250741595886, 11.22081503755373, 10.574554136931088, 5.660249569843978, 3.5131408214448383, 140.87933111699635, 2.645199174061257, 2.5244150225049125, 186.6239346173529, 19.634337958699295, 63.34096886639151, 0.04587667094437294, 0.04587643372031314, 0.045875521634703875, 0.045875513454563886, 0.045875431653163955, 0.045875370302114, 0.04587535803190401, 0.045875149438334185, 0.04587516170854417, 0.04587519851917414, 24.937424554686, 0.3134415652976385, 189.04324199239952, 116.70775196786475, 101.51177327113582, 85.63998067029753, 48.21476801247031, 45.83524184201284, 32.794885848748265, 11.720205392605962, 46.24736191228569, 18.851229212098254, 65.33313744487415, 33.72132785121469, 0.04448954999335984, 0.044489505678524256, 0.04448928726969171, 0.04448909418362236, 0.04448913533311255, 0.044489008719296584, 0.04448890109755301, 0.04448890742824381, 0.04448888843617141, 0.04448926194692852, 0.04448886627875362, 0.04448899605791498, 0.04448891375893461, 0.04448885994806282, 0.0444889454123886, 0.044488894766862214, 0.04448885361737202, 0.04448884095599043, 0.04448888843617141, 4.659687843964514, 0.044489113175694754, 0.044488932751007, 0.04448890742824381, 0.0444889295856616, 0.0444889549084248, 0.044488932751007, 59.04194720699119, 58.56102595012316, 57.65261770542578, 45.42024858199086, 45.09186143386377, 37.7243051421186, 35.77275420110264, 34.37949061271034, 34.355122378319294, 32.24908632954873, 27.944344987738546, 23.97066860437931, 21.947848439525412, 21.838424028562535, 19.646964386465108, 19.316796309962054, 15.735934966500196, 15.587785792220066, 14.598749625291092, 13.940356449098758, 13.550602680680054, 13.347835962877209, 11.61568577113955, 11.609594514761776, 11.17556221404079, 7.59508914505369, 2.4820331482599687, 46.75832585288812, 13.363285917648648, 6.451269043424148, 9.198006509855865, 256.09762561516874, 165.90409045724576, 137.98250599411833, 42.39716778350288, 24.532236125612673, 21.988995674871305, 18.589346846479966, 9.633549039133463, 9.550789947323487, 5.31177353402451, 2.229610539399398, 0.8948474045876268, 0.04402591066107717, 0.04402519612769069, 0.04402400338518953, 0.044023717015777834, 0.044023714235492284, 0.04402341396465283, 0.04402331109408746, 0.04402328329123196, 0.044023241586948696, 0.04402330275323081, 0.04402320822352209, 0.04402350293379045, 0.04402318320095214, 0.04402322490523539, 0.04402321656437874, 0.044023166519238835, 0.044023166519238835, 0.044023172079809936, 0.04402326660951865, 0.0440232693898042, 0.04402326660951865, 0.044023258268662, 0.04402329163208861, 0.044023244367234246, 0.0440232693898042, 0.0542683213725042, 136.8915164846877, 112.64900249379406, 82.91560105625493, 70.74347301123066, 42.648703725466994, 40.0803883023243, 17.404941989944685, 42.53380682273065, 5.436436675756017, 4.153221461884861, 2.4927365700054906, 1.3880478307195594, 1.2559836165871296, 0.7103469271728626, 67.1993004387802, 0.06537677929322772, 0.06537660910584957, 0.06537681652171669, 0.06537642828176028, 0.0653765240121605, 0.06537643891847142, 0.06537644955518256, 0.06537634318807121, 0.065376444236827, 0.06537648146531595, 0.06537647082860483, 0.06537636446149347, 0.06537639637162689, 0.06537651337544936, 0.06537632191464894, 0.06537647082860483, 0.06537680056664999, 0.06537667824447195, 0.06537643360011586, 0.06537643891847142, 0.06654454126182335, 0.06537902895763263, 137.55662351782726, 35.256181509083376, 31.764017320316643, 332.06851623178835, 30.80549322164093, 60.145744395341055, 0.053090466126728096, 0.05309015044316534, 0.053089870985585194, 0.05308990203642743, 0.05308985028502371, 0.053089969313252286, 0.053089839934742956, 0.05308980370876035, 0.05308980370876035, 0.053089762307637366, 0.05308972608165475, 0.05308972090651438, 0.05308972090651438, 0.05308974678221624, 0.05308972608165475, 0.05308974160707587, 0.05308973125679513, 0.053089710556233634, 0.05308970020595288, 0.053089715731374006, 0.05308975713249699, 0.0530897933584796, 0.05308973125679513, 0.05308970020595288, 0.053089762307637366, 0.05308981923418147, 0.05308974678221624, 0.053089834759602585, 0.053089839934742956, 0.05308994861269079, 0.05308987616072557, 0.05308974678221624, 0.05308978818333923, 0.053089762307637366, 0.05308982440932184, 0.05308980888390072, 0.05308978300819885, 0.05308976748277774, 0.05310139602319595, 143.7803106804119, 140.86994911188287, 75.18234392356558, 52.22663651512012, 28.91933466070762, 27.800995016148292, 17.22142771770688, 16.745255000627836, 15.43299264253471, 12.016501599432335, 11.993480457077526, 7.084309992463247, 0.9164153114487874, 20.655694283159846, 13.109274050459213, 33.45584623652544, 0.05176050712916754, 0.051760303848382413, 0.05176015646981319, 0.05176015138779356, 0.05176027335626464, 0.051760166633852446, 0.0517601056496169, 0.05176027843828427, 0.051760125977695415, 0.051760161551832815, 0.05176007007547951, 0.05176009548557765, 0.05176042581685349, 0.05176004974740099, 0.05176015646981319, 0.052688351780791995, 130.8609387942393, 75.76843118910286, 56.355021586341046, 52.24722065966857, 48.35772209527285, 37.8880402309207, 36.56122991889, 29.158335506036437, 24.221262977265376, 23.867168340620168, 23.458576424982684, 8.651607873262044, 3.4509129990277807, 1.9080539929640135, 1.764437034240176, 1.2576159552070079, 8.352602273250788, 13.181901020474191, 0.06177674267632971, 0.06177643183778728, 0.061776461441457986, 0.061776204876311844, 0.06177604699006807, 0.061776032188232716, 0.06177596311300106, 0.06177588416987917, 0.061775844698318226, 0.06177585456620846, 0.061775908839604765, 0.0617758101607024, 0.061776185140531376, 1.0453668725735723, 3.0141832285692045, 0.31381013916734296, 0.061837193371916115, 171.91375725433596, 86.81916096774943, 61.56356968160697, 43.215686152710525, 33.12893730007191, 13.722342771343722, 13.25028656061592, 4.759668134299301, 4.381797708517493, 42.89709011690603, 1.2858165382377742, 32.13438673574412, 0.059586876568848174, 0.05958539428177274, 0.05958573258152569, 0.059585367573897506, 0.05958534976864735, 0.059585278547646725, 0.059585389830460196, 0.05958515836220818, 0.05958512275170787, 0.059585145008270564, 0.059585554529024136, 0.05958512720302041, 0.05958512720302041, 0.05958512720302041, 0.059585091592520095, 0.05958510494645771, 0.059585198424021026, 0.05958510494645771, 0.05958513165433295, 9.116278393504976, 0.05958526519370911, 0.059585149459583105, 0.05958522513189626, 0.059585171716145795, 0.05958515836220818, 0.16562635991247962, 0.05958515391089564, 114.43355017828445, 71.91987318642549, 50.621375542686174, 47.83895866250413, 45.29572763777454, 35.42277338271164, 21.14450921448805, 10.891404880822417, 7.925977140746537, 6.060123096416976, 4.491444452190994, 4.491385865608191, 3.616293338021913, 2.4625766474052266, 51.350966520655774, 3.970660415267554, 0.05279488183497519, 0.05279481796878754, 0.05279477113358326, 0.05279456250403694, 0.05279450289559513, 0.052794379420965674, 0.052794379420965674, 0.052794341101253084, 0.052794328328015554, 0.05279433684350724, 0.05279432407026971, 0.05279432407026971, 0.05279431129703218, 0.05279431129703218, 20.48890409824102, 0.05279440070969489, 0.052794366647728144, 0.05279433684350724, 0.05279442199842411, 0.18338671666590667, 0.052794392194203205, 0.052794366647728144, 0.05279437516321983, 0.05280833205409428, 153.8327650617947, 79.27120658353921, 35.04777216311764, 34.14496520450907, 22.887593978335662, 21.606152300900874, 15.52357339396743, 2.3813257290583443, 1.7914399312005806, 1.680974320147381, 1.4527866193595254, 46.895031113852184, 0.6172247553356889, 57.12419627787853, 0.04937452343933231, 0.049374459215886624, 0.04937463984432762, 0.04937447125778269, 0.04937470406777331, 0.049374322741064534, 0.04937432675502989, 0.049374451187955914, 0.04937435485278738, 0.049374206336069225, 0.04937435886675273, 0.04937427055951491, 0.0493742625315842, 0.04937413809865818, 0.049374274573480266, 0.04937424647572278, 0.04937421035003458, 0.049374214363999934, 0.04938550163457969, 213.2082317744038, 91.11803175523035, 77.70382706762449, 33.04597919926454, 20.68131772464281, 0.05245644993563757, 0.052455801075394624, 0.05245571430919935, 0.05245571430919935, 0.05245577089584844, 0.05245563508789062, 0.05245569544698298, 0.052455555866581884, 0.05245575203363208, 0.05245553323192225, 0.05245556341146843, 0.05245550682481934, 0.05245558604612807, 0.05245551814214915, 0.05245550305237606, 0.05245549550748952, 0.05245550305237606, 0.05245551814214915, 0.05245548041771643, 0.052455499279932795, 0.05245550305237606, 0.05245555209413861, 0.05245556718391171, 0.05245546532794333, 0.052455499279932795, 0.05245550682481934, 0.052455555866581884, 0.05245550682481934, 0.052455529459478976, 0.052455555866581884, 0.052455638860333886, 0.05245554832169534, 0.05245553323192225, 0.052455555866581884, 0.052455514369705886, 0.052455514369705886, 0.053532965665329925, 0.052493310478857344, 50.12948122284119, 47.04367399900383, 37.88418314445449, 17.671653717460316, 16.59263451416655, 15.80018389939437, 8.543375239849547, 6.2256020704764055, 50.7099188002303, 58.762126204120094, 2.3453816468916426, 51.83328467567473, 29.184082690758217, 36.72777931952834, 0.04964526623629518, 0.04964495618661054, 0.04964493773127217, 0.04964520717921239, 0.049644900820595424, 0.04964477901536218, 0.049644786397497524, 0.0496447605600238, 0.04964472364934706, 0.04964484176351264, 0.049644745795753106, 0.04964472734041474, 0.04964469781187334, 0.04964472734041474, 0.049644797470700545, 0.04964483438137729, 0.04964483807244496, 0.04964480485283589, 0.04964481961710659, 0.04964480116176822, 0.049644797470700545, 0.04964477901536218, 0.049986173246690205, 0.049752524971841613, 179.04492576997515, 61.310520204937895, 49.17301579858411, 38.182104714420255, 35.18062495863287, 27.10071452739231, 5.911401667867937, 5.432641599527155, 3.995021071561823, 3.789512495524314, 0.05156223160583468, 0.05156184642276821, 0.051561379209974625, 0.05156135781091538, 0.051561339978366004, 0.05156129004722776, 0.051561247249109265, 0.051561147386832776, 0.0515611438203229, 0.0515611438203229, 0.05156115095334265, 0.051561204450990765, 0.051561104588714275, 0.05156109388918465, 0.0515611438203229, 0.051561097455694524, 0.05156106179059578, 0.051561104588714275, 0.05156101185945754, 0.05156108318965503, 0.05515253723441721, 104.66370100715409, 55.40706798756537, 45.80374346134311, 45.2038772928842, 28.95039070380168, 19.02617840282078, 16.55338809919264, 10.187035270290254, 4.5857952715998564, 4.303759889207163, 46.06043052679585, 0.057366207503030626, 0.05736623148510911, 0.05736614240881759, 0.05736607388859335, 0.05736607388859335, 0.05736608416662699, 0.05736612185275032, 0.057366063610559716, 0.057366063610559716, 0.057366162964884865, 0.05736606703657093, 0.057366046480503655, 0.057366077314604566, 0.05736646102786032, 0.057366063610559716, 0.05736609444466062, 0.057366046480503655, 0.0573660875926382, 0.057366063610559716, 0.05736615268685123, 0.057366180094940926, 0.05736612185275032, 0.057366180094940926, 0.05736621092904184, 0.0573660875926382, 0.05736607388859335, 0.05741512751712829, 109.33700127145899, 38.43183171027298, 37.746493221305855, 33.70479234913772, 94.28642868489251, 28.074660319022858, 0.8576909510651917, 22.08355686552426, 3.51674907197104, 0.053307468621577085, 0.053306991870817444, 0.053306985294944896, 0.053306903096538065, 0.05330685377749396, 0.05330715626763111, 0.05330684720162141, 0.053306748563533214, 0.05330676829115085, 0.05330672883591557, 0.05330672883591557, 0.05330685377749396, 0.05330669924448911, 0.05330669924448911, 0.05330669924448911, 0.05330669924448911, 0.05330669924448911, 0.05330669924448911, 0.05330669924448911, 0.053306788018768494, 0.05330668280480774, 0.05330683733781259, 0.05330700831049881, 0.05330710037271447, 0.05330679459464104, 0.05330681432225868, 0.05330676500321458, 0.05330679459464104, 0.053306827474003775, 0.05330687679304787, 0.053306788018768494, 0.05330676500321458, 71.01982407604231, 39.249321066037524, 38.94445891802708, 36.42912421660538, 17.09810628941301, 12.970089789811746, 5.154641987573401, 87.12189620874554, 1.014262861482761, 4.611292481754391, 0.0431221802045394, 0.04312213252835049, 0.04312208187239977, 0.04312210869025603, 0.04312201035811641, 0.043122040155734474, 0.04312203121644905, 0.04312200439859279, 0.04312199843906918, 0.043121983540260145, 0.043121983540260145, 0.043121989499783756, 0.043121989499783756, 0.04312197460097472, 0.04312195374264207, 0.043121983540260145, 0.04312196268192749, 0.04312197758073653, 0.043122028236687246, 0.04312194182359485, 22.103643856738643, 6.025058158921497, 0.0431220073783546, 0.04312200439859279, 0.04312204611525809, 0.13541638378762125, 0.04312200439859279, 0.04312199545930737, 0.04312199843906918, 0.04312199545930737, 57.20683433448189, 48.5064233607126, 46.96336981240254, 27.267776710401442, 24.54055330386418, 20.41410142685789, 9.18012825130294, 6.472145448742696, 1.267555645205144, 0.04471202032498462, 0.044711645981378376, 0.04471151359156641, 0.04471151359156641, 0.04471149076573676, 0.04471156837355757, 0.04471149076573676, 0.04471151359156641, 0.04471146337474118, 0.04471152272189827, 0.04471154554772792, 0.044711454244409324, 0.04471146337474118, 0.0447114359837456, 0.04471141772308188, 0.044711408592750024, 0.04471142685341374, 0.044711408592750024, 0.044711408592750024, 0.044711408592750024, 0.044711408592750024, 0.044711445114077465, 1.6073331297959608, 0.04471170532853546, 0.04471151359156641, 0.04471149989606862, 0.044711632285880584, 0.044711477070238974, 0.04471147250507304, 0.04471146337474118, 0.04471146337474118, 0.04759682628384498, 0.045199685045103466, 0.04471146337474118, 43.295522284238935, 0.02196910259242475, 0.02196896860815883, 0.021968914106084557, 0.021969014026554056, 0.021968889125967183, 0.02196893681528217, 0.021968905022405512, 0.021968932273442647, 0.021968880042288138, 0.021968895938726467, 0.021968870958609093, 0.02196890275148575, 0.021968875500448615, 0.021968875500448615, 0.021968889125967183, 0.02196886641676957, 0.021968875500448615, 0.02196885506217076, 0.021968841436652193, 0.021968845978491715, 0.02196883916573243, 0.021968845978491715, 0.02196883689481267, 0.02196885506217076, 0.02196883916573243, 0.021968857333090522, 0.02196883462389291, 0.02196883916573243, 0.021968823269294103, 0.021968843707571954, 0.02196890275148575, 0.02196893681528217, 0.02196886641676957, 0.02196886641676957, 0.021968873229528854, 0.021968843707571954], \"Total\": [2300.0, 384.0, 576.0, 354.0, 750.0, 257.0, 214.0, 283.0, 277.0, 180.0, 294.0, 173.0, 190.0, 296.0, 728.0, 242.0, 155.0, 194.0, 167.0, 187.0, 177.0, 175.0, 145.0, 142.0, 138.0, 138.0, 159.0, 139.0, 195.0, 132.0, 132.8365043099567, 2300.0668700629312, 87.27636986601985, 74.4859327304303, 50.063451050764236, 41.969906689829365, 39.6567080394402, 39.356674476807456, 26.788109934590366, 24.212958983433076, 21.56308586661922, 354.82041911853224, 266.29070888533977, 17.315161115567037, 17.30613015252301, 12.048267151570013, 750.5680190178174, 9.461534859755671, 7.221700088635437, 103.43704664781903, 4.4571692371662275, 152.62491918780998, 57.137645546533825, 118.1811163140999, 1.2922458845898965, 1.2922449927908601, 1.2922452618746383, 1.292239528126917, 1.292238733762457, 1.2922381108538865, 1.2922470276683922, 1.2922424659173861, 126.66482445068512, 145.02081196275446, 161.58457841781376, 103.22049818589284, 82.67576990467015, 67.95855541221292, 50.46394736792044, 45.943171687883485, 35.42726815676179, 26.044747454725613, 22.20194640255987, 21.734105428619014, 18.278042614015032, 13.086825215864232, 13.086825215864232, 13.086825215864232, 12.893649384201236, 12.893649384201236, 12.01954542043605, 139.00912251690048, 10.563966785800993, 9.813309413534665, 8.075089481091778, 47.098581061409455, 576.7438397020921, 84.07061060755713, 195.15974092173443, 68.4538624665117, 384.58009196250043, 728.5943854458421, 266.29070888533977, 1.2922366523838014, 1.2922470276683922, 72.22143238767926, 354.62261369397476, 151.29172194497028, 103.13536607155687, 73.2473859066967, 51.16833571121803, 38.37832374451637, 37.40832226066899, 33.3666310820323, 29.172768722566772, 17.392018371607644, 16.389090884484496, 11.890880313593494, 5.032104735724905, 18.415475914077632, 3.225008054668927, 3.0855535379077397, 2.113870538294155, 159.0462637625898, 294.6963053091133, 105.50157541170587, 728.5943854458421, 1.2922424659173861, 1.2922400009567492, 1.2922452618746383, 1.2922387806625857, 1.2922373611971743, 1.2922369446426456, 1.2922367346282129, 1.2922407407086924, 1.2922369300690768, 576.7438397020921, 2300.0668700629312, 283.04343588833666, 187.39504857122705, 80.90326435325662, 70.23421156611406, 29.733334302064435, 25.46150420856389, 12.047590259296681, 242.1890044310558, 118.1811163140999, 576.7438397020921, 728.5943854458421, 1.2922360392064156, 1.2922387878581183, 1.2922373124166826, 1.2922359636813991, 1.2922356118082616, 1.2922364305678689, 1.29223639744699, 1.292236999518491, 1.2922452618746383, 1.292235754077814, 1.2922358689254199, 1.292236573170967, 1.2922358638289722, 1.2922361785336365, 1.2922361885770384, 1.292236935683899, 1.292236317899567, 1.2922364047920456, 1.2922372187876665, 1.2922407407086924, 1.2922400009567492, 1.2922412454952121, 1.2922376834506746, 1.2922381128665092, 1.29223934941054, 1.292238208782406, 1.2922458845898965, 1.2922399793667152, 1.2922449927908601, 1.2922400108563386, 2300.0668700629312, 277.1281203887051, 194.81571458983086, 126.66482445068512, 89.95765373251383, 60.4017526286325, 36.090680461561526, 22.23133205364018, 6.754629446089817, 3.954594056636446, 294.6963053091133, 10.439015838655155, 57.77224994438312, 728.5943854458421, 354.82041911853224, 1.29223797363872, 1.2922381108538865, 1.2922371905442132, 1.2922406411439393, 1.2922385977656092, 1.292239024542023, 1.2922379549294034, 1.292236201528152, 1.2922381272875965, 1.292236890010392, 1.292238265032029, 1.2922373124166826, 1.292237317539382, 1.292236483963157, 1.2922370063339368, 1.292243956204308, 1.2922424659173861, 1.2922452618746383, 1.2922400009567492, 1.2922400108563386, 1.2922412454952121, 2300.0668700629312, 750.5680190178174, 175.13459538211464, 576.7438397020921, 102.7595208983226, 175.13459538211464, 102.62392385116347, 97.84396516304157, 72.22143238767926, 50.26000179185861, 40.06266020818763, 29.196194861114424, 22.552436193414025, 14.142093640340502, 12.341099978647657, 11.409029400638438, 8.016430587848943, 93.43304620433062, 7.617612388392468, 7.591977243637208, 6.106081347747452, 37.51670776510438, 2.4339843983088443, 57.77224994438312, 2.385114738178194, 73.71570929452334, 728.5943854458421, 750.5680190178174, 1.2922370063339368, 1.2922363119879776, 1.2922400108563386, 1.292236164625063, 1.292237203582156, 1.292236219263339, 1.2922367799415466, 1.292238733762457, 1.2922458845898965, 1.292239528126917, 1.2922449927908601, 1.2922470276683922, 266.29070888533977, 177.2937375136174, 159.17331965905063, 59.47585706577688, 50.1146147985078, 46.6931394478879, 29.815386684688434, 20.167173065287766, 17.386907607888556, 17.348073276725408, 15.833611843648683, 12.467176139606527, 11.820915238983885, 6.906610671896772, 4.759501923497632, 195.15974092173443, 3.891560276114051, 3.770776124557706, 296.3538206630235, 79.59318077006903, 728.5943854458421, 1.2922470276683922, 1.292243956204308, 1.2922398671674615, 1.2922396819720676, 1.2922400896593702, 1.2922393607652078, 1.2922391713429904, 1.2922384751476543, 1.292238840617452, 1.2922401032528419, 2300.0668700629312, 576.7438397020921, 190.29098861443995, 117.95549858990512, 102.7595208983226, 86.8877272923379, 49.46251463451069, 47.08298846405322, 34.04263247078865, 37.51670776510438, 242.1890044310558, 159.0462637625898, 728.5943854458421, 750.5680190178174, 1.2922424659173861, 1.2922449927908601, 1.292239024542023, 1.2922361441189691, 1.2922387878581183, 1.2922365681783767, 1.2922357809791267, 1.2922365653186973, 1.2922360807708855, 1.2922470276683922, 1.292235754077814, 1.292239528126917, 1.2922371481252022, 1.292235864591159, 1.2922384889203795, 1.292237203582156, 1.2922361397152033, 1.2922358111805017, 1.292237317539382, 296.3538206630235, 1.2922458845898965, 1.2922392423057678, 1.2922385977656092, 1.2922406411439393, 1.292243956204308, 1.2922452618746383, 60.28493919408842, 59.804017937220394, 58.89560969252302, 46.663240569088096, 46.334853420961004, 38.96729712921584, 37.01574618819988, 35.622482599807576, 35.59811436541653, 33.492078316645966, 29.187336974835777, 25.21366059147654, 23.190840426622643, 23.081416015659766, 20.889956373562338, 20.559788297059285, 16.978926953597426, 16.830777779317295, 15.841741612388324, 15.18334843619599, 14.793594667777286, 14.590827949974441, 12.858677758236782, 12.852586501859008, 12.418554201138022, 8.838081132150922, 3.7250251353571997, 73.71570929452334, 93.43304620433062, 159.0462637625898, 576.7438397020921, 257.3458870753389, 167.15230273105, 139.23071826792258, 43.64538005730708, 25.780448399416866, 23.237207948675497, 19.83755912028416, 10.881761312937659, 10.799002221127683, 6.5599858078287046, 3.477822813203593, 2.1430596783918214, 1.2922449927908601, 1.2922458845898965, 1.292237203582156, 1.2922371481252022, 1.292239528126917, 1.2922381272875965, 1.2922374294900176, 1.292237013564101, 1.2922359880763372, 1.2922379572407674, 1.2922365472119832, 1.2922452618746383, 1.2922359679201627, 1.2922372441923258, 1.2922370063339368, 1.2922355731059765, 1.2922356198869065, 1.2922357833110611, 1.2922385977656092, 1.292239024542023, 1.2922392423057678, 1.2922400108563386, 1.292243956204308, 1.2922407407086924, 1.2922470276683922, 2300.0668700629312, 138.11837574886172, 113.87586175796798, 84.14246032042885, 71.97033227540459, 43.87556298964093, 41.30724756649824, 18.63180125411862, 47.67853228028777, 6.663295939929956, 5.3800807260588, 3.7195958341794295, 2.614907094893498, 2.4828428807610674, 1.9372061913468017, 296.3538206630235, 1.2922387806625857, 1.2922378794663882, 1.292243956204308, 1.2922369300690768, 1.292239528126917, 1.292237890363512, 1.292238272013199, 1.292236615913588, 1.292238733762457, 1.2922398671674615, 1.2922396819720676, 1.2922375863146163, 1.292238265032029, 1.2922407407086924, 1.292236999518491, 1.2922400009567492, 1.2922470276683922, 1.2922452618746383, 1.2922393607652078, 1.2922401032528419, 750.5680190178174, 2300.0668700629312, 138.79576928398504, 36.4953272752411, 33.003163086474366, 384.58009196250043, 296.3538206630235, 728.5943854458421, 1.2922381128665092, 1.2922376834506746, 1.2922365389530113, 1.2922374294900176, 1.292236442434213, 1.29223934941054, 1.292236573170967, 1.292235987580506, 1.2922366523838014, 1.2922361472261361, 1.2922356447345205, 1.2922355635983578, 1.2922356549733798, 1.2922363376355404, 1.29223593791294, 1.2922363395747303, 1.292236259214445, 1.2922359660639364, 1.2922357669829052, 1.2922362318539988, 1.2922372575349808, 1.2922382706208293, 1.2922367612786696, 1.2922360352781452, 1.2922375863146163, 1.292239024542023, 1.2922372187876665, 1.2922400108563386, 1.2922406411439393, 1.2922449927908601, 1.2922424659173861, 1.2922372923541525, 1.2922407407086924, 1.2922387878581183, 1.2922452618746383, 1.292243956204308, 1.2922412454952121, 1.2922395090062544, 750.5680190178174, 145.02081196275446, 142.11046260518484, 76.42281952644728, 53.46711211800183, 30.159810263589325, 29.041470619029997, 18.461903320588586, 17.98573060350954, 16.673468245416416, 13.256977202314044, 13.233956059959235, 8.324785595344956, 2.156890914330495, 103.43704664781903, 118.1811163140999, 728.5943854458421, 1.292238208782406, 1.2922392423057678, 1.292236538637781, 1.2922369446426456, 1.2922400009567492, 1.2922374257163125, 1.2922359894030446, 1.2922407407086924, 1.2922373611971743, 1.292238265032029, 1.2922360122760288, 1.292236981046747, 1.2922452618746383, 1.292236076943252, 1.2922406411439393, 26.044747454725613, 132.09139855934035, 76.99889095420386, 57.58548135144205, 53.477680424769574, 49.58818186037385, 39.118499996021704, 37.791689683991, 30.38879527113744, 25.45172274236638, 25.09762810572117, 24.689036190083687, 9.882067638363047, 4.681372764128782, 3.138513758065015, 2.994896799341178, 2.488075720308009, 47.098581061409455, 139.00912251690048, 1.2922406411439393, 1.2922381272875965, 1.2922387806625857, 1.2922400009567492, 1.2922369300690768, 1.2922373611971743, 1.2922371600866902, 1.2922367346282129, 1.2922359571162716, 1.2922364352721216, 1.2922375863146163, 1.2922361978105212, 1.2922452618746383, 111.55952134469446, 2300.0668700629312, 93.43304620433062, 296.3538206630235, 173.1464076465136, 88.05181135992703, 62.79622007378459, 44.44833654488814, 34.36158769224953, 14.954993163521339, 14.482936952793537, 5.992318526476915, 5.614448100695108, 57.137645546533825, 2.5184669304153893, 159.0462637625898, 1.2922458845898965, 1.292236981046747, 1.2922449927908601, 1.2922373124166826, 1.29223934941054, 1.2922379572407674, 1.2922407407086924, 1.2922362779687062, 1.2922358332066795, 1.292236317899567, 1.2922452618746383, 1.2922360970249303, 1.2922361785336365, 1.2922362887829875, 1.2922357114288259, 1.2922360085698414, 1.2922380732368561, 1.292236081988281, 1.2922367293502286, 728.5943854458421, 1.2922412454952121, 1.2922374536553554, 1.2922406411439393, 1.292239024542023, 1.2922400009567492, 2300.0668700629312, 1.2922424659173861, 115.67299132443608, 73.15931433257713, 51.86081668883782, 49.07839980865578, 46.53516878392619, 36.66221452886329, 22.38395036063969, 12.130846026974059, 9.165418286898179, 7.299564242568615, 5.730885598342634, 5.73082701175983, 4.855734484173553, 3.702017793556866, 152.62491918780998, 47.67853228028777, 1.2922361165078446, 1.2922367799415466, 1.2922362924106117, 1.2922365871776083, 1.2922357750166018, 1.292235535256248, 1.29223557976072, 1.2922356106615542, 1.2922356186440884, 1.292235889289566, 1.2922355776657914, 1.2922357685396084, 1.2922355964615544, 1.2922355964615544, 728.5943854458421, 1.2922384889203795, 1.29223767135838, 1.292236999518491, 1.2922470276683922, 750.5680190178174, 1.292243956204308, 1.2922412454952121, 1.2922452618746383, 62.55120905290073, 155.07562664496103, 80.51406816670551, 36.29063374628395, 35.38782678767538, 24.130455561501964, 22.849013884067176, 16.766434977133734, 3.624187312224646, 3.0343015143668826, 2.923835903313683, 2.6956482025258275, 105.50157541170587, 1.8600863385019917, 576.7438397020921, 1.292236827669532, 1.292238208782406, 1.292243956204308, 1.2922399793667152, 1.2922470276683922, 1.2922371752908421, 1.292237521764622, 1.2922412454952121, 1.292238840617452, 1.292236174287495, 1.2922407407086924, 1.2922398671674615, 1.2922396819720676, 1.292236425748811, 1.2922401032528419, 1.292239515837169, 1.2922393607652078, 1.2922400896593702, 242.1890044310558, 214.44835340425075, 92.35781170320773, 78.94360701560187, 34.28575914724193, 21.921097672620196, 1.2922372187876665, 1.292236495357901, 1.2922361514045302, 1.2922382706208293, 1.2922401032528419, 1.2922369264493492, 1.2922387878581183, 1.2922361830987787, 1.2922412454952121, 1.2922359589789214, 1.2922368574062892, 1.2922354918679444, 1.292237558703674, 1.2922360574630138, 1.2922357565687463, 1.2922357809984386, 1.2922361466963859, 1.292236573170967, 1.2922356547570393, 1.2922361784809706, 1.2922363690342227, 1.2922375863146163, 1.29223797363872, 1.2922354826777778, 1.292236341187747, 1.2922365653186973, 1.2922379549294034, 1.2922366523838014, 1.2922378794663882, 1.2922395090062544, 1.2922452618746383, 1.2922406411439393, 1.292239528126917, 1.2922424659173861, 1.292238733762457, 1.2922399793667152, 126.66482445068512, 142.11046260518484, 51.372072096074056, 48.28626487223669, 39.12677401768735, 18.914244590693176, 17.83522538739941, 17.04277477262723, 9.785966113082406, 7.468192943709263, 68.4538624665117, 79.59318077006903, 3.5879725201245, 84.07061060755713, 117.50544791434635, 728.5943854458421, 1.292243956204308, 1.292236981046747, 1.2922385977656092, 1.2922470276683922, 1.292239515837169, 1.292236443563179, 1.292237011868569, 1.2922365871776083, 1.2922361899880046, 1.2922396819720676, 1.2922372671692923, 1.2922368468794847, 1.2922360937659674, 1.292236890010392, 1.292238840617452, 1.2922398671674615, 1.2922400896593702, 1.2922391713429904, 1.2922396220427181, 1.2922392899565183, 1.2922393607652078, 1.2922399793667152, 214.44835340425075, 2300.0668700629312, 180.28560050776827, 62.55120905290073, 50.41369053637722, 39.42277945221336, 36.421299696425976, 28.34138926518542, 7.152076405661044, 6.673316337320263, 5.23569580935493, 10.439015838655155, 1.2922470276683922, 1.292243956204308, 1.2922398671674615, 1.2922400896593702, 1.2922396819720676, 1.2922393607652078, 1.2922391713429904, 1.2922384751476543, 1.2922384246667207, 1.2922384246667207, 1.2922386234060521, 1.2922401032528419, 1.2922383303741074, 1.2922382119307334, 1.2922396220427181, 1.292238840617452, 1.292238111745028, 1.2922395090062544, 1.2922376908749027, 1.292239515837169, 2300.0668700629312, 105.89857042463791, 56.64193740504919, 47.03861287882693, 46.43874671036802, 30.185260121285502, 20.2610478203046, 17.788257516676463, 11.421904687774076, 5.820664689083675, 5.538629306690982, 159.0462637625898, 1.2922361033899923, 1.2922382706208293, 1.2922368574062892, 1.2922356042371457, 1.2922356042371457, 1.292235962002364, 1.2922368502695765, 1.2922355738197397, 1.2922357084584721, 1.2922380732368561, 1.2922359238488104, 1.2922355733201658, 1.292236317272264, 1.2922449927908601, 1.2922360573053189, 1.2922367612786696, 1.2922357504521038, 1.2922367174297564, 1.2922362563365664, 1.2922385977656092, 1.292239528126917, 1.2922379572407674, 1.2922400108563386, 1.2922458845898965, 1.2922384889203795, 1.2922399793667152, 257.3458870753389, 111.55952134469446, 39.67076051386989, 38.98542202490276, 34.943721152734625, 98.13860684292958, 29.31358912261977, 2.096619754662099, 105.50157541170587, 18.415475914077632, 1.2922458845898965, 1.2922371600866902, 1.2922392899565183, 1.292237521764622, 1.2922378794663882, 1.2922452618746383, 1.2922379572407674, 1.2922362062895278, 1.2922367315708323, 1.2922361978105212, 1.2922362276814305, 1.2922395090062544, 1.2922357840907248, 1.2922357840907248, 1.2922357880981314, 1.2922358182888953, 1.2922358409218189, 1.2922358933408487, 1.2922360277208873, 1.292238272013199, 1.2922357627512695, 1.292239515837169, 1.292243956204308, 1.2922470276683922, 1.292238733762457, 1.292239528126917, 1.2922380734401726, 1.2922396819720676, 1.2922412454952121, 1.2922449927908601, 1.2922398671674615, 1.2922391713429904, 72.26893758568805, 40.49843457568327, 40.19357242767283, 37.678237726251126, 18.34721979905876, 14.219203299457492, 6.403755497219146, 117.50544791434635, 2.2633763711285058, 57.137645546533825, 1.2922373124166826, 1.2922381108538865, 1.2922372923541525, 1.292238733762457, 1.2922357992756888, 1.2922367612786696, 1.2922365472119832, 1.2922361472261361, 1.2922360085698414, 1.292235595756751, 1.292235595756751, 1.2922361598832754, 1.2922364720530648, 1.2922360352781452, 1.292235655579622, 1.292236573170967, 1.2922359691285044, 1.2922367174297564, 1.292238265032029, 1.292235720215432, 728.5943854458421, 296.3538206630235, 1.2922380105863565, 1.292238272013199, 1.2922452618746383, 576.7438397020921, 1.2922412454952121, 1.292243956204308, 1.2922470276683922, 1.2922458845898965, 58.454358398923965, 49.75394742515468, 48.210893876844615, 28.51530077484352, 25.788077368306258, 21.66162549129997, 10.427652315745014, 7.719669513184772, 2.5150797096472197, 1.2922424659173861, 1.2922406411439393, 1.2922370970690236, 1.2922370970690236, 1.2922364720530648, 1.2922387878581183, 1.2922367293502286, 1.292237558703674, 1.292236201528152, 1.2922379572407674, 1.2922387806625857, 1.2922362318539988, 1.292237011868569, 1.2922362237440415, 1.2922357109123077, 1.2922359589789214, 1.292236615913588, 1.292236218904153, 1.292236218904153, 1.292236218904153, 1.292236218904153, 1.292237317539382, 57.77224994438312, 1.2922458845898965, 1.2922400009567492, 1.292239515837169, 1.2922452618746383, 1.292238733762457, 1.2922400108563386, 1.2922396220427181, 1.2922399793667152, 103.43704664781903, 2300.0668700629312, 1.2922412454952121, 44.56578884263117, 1.2922374536553554, 1.2922360784789544, 1.2922361472261361, 1.2922424659173861, 1.2922359149476124, 1.292238733762457, 1.2922369264493492, 1.2922387878581183, 1.292236573170967, 1.292237558703674, 1.2922362053009007, 1.2922381108538865, 1.2922366097564428, 1.2922367174297564, 1.2922375863146163, 1.2922364531193546, 1.292237013564101, 1.2922359660639364, 1.292235624778279, 1.2922359589789214, 1.2922358666643992, 1.2922362838188315, 1.292235759994706, 1.2922368574062892, 1.2922359679201627, 1.2922371905442132, 1.2922358682282198, 1.2922361568800829, 1.2922355114047883, 1.2922367315708323, 1.2922412454952121, 1.2922452618746383, 1.29223934941054, 1.2922395090062544, 1.2922458845898965, 1.2922372923541525], \"Category\": [\"Default\", \"Default\", \"Default\", \"Default\", \"Default\", \"Default\", \"Default\", \"Default\", \"Default\", \"Default\", \"Default\", \"Default\", \"Default\", \"Default\", \"Default\", \"Default\", \"Default\", \"Default\", \"Default\", \"Default\", \"Default\", \"Default\", \"Default\", \"Default\", \"Default\", \"Default\", \"Default\", \"Default\", \"Default\", \"Default\", \"Topic1\", \"Topic1\", \"Topic1\", \"Topic1\", \"Topic1\", \"Topic1\", \"Topic1\", \"Topic1\", \"Topic1\", \"Topic1\", \"Topic1\", \"Topic1\", \"Topic1\", \"Topic1\", \"Topic1\", \"Topic1\", \"Topic1\", \"Topic1\", \"Topic1\", \"Topic1\", \"Topic1\", \"Topic1\", \"Topic1\", \"Topic1\", \"Topic1\", \"Topic1\", \"Topic1\", \"Topic1\", \"Topic1\", \"Topic1\", \"Topic1\", \"Topic1\", \"Topic1\", \"Topic1\", \"Topic2\", \"Topic2\", \"Topic2\", \"Topic2\", \"Topic2\", \"Topic2\", \"Topic2\", \"Topic2\", \"Topic2\", \"Topic2\", \"Topic2\", \"Topic2\", \"Topic2\", \"Topic2\", \"Topic2\", \"Topic2\", \"Topic2\", \"Topic2\", \"Topic2\", \"Topic2\", \"Topic2\", \"Topic2\", \"Topic2\", \"Topic2\", \"Topic2\", \"Topic2\", \"Topic2\", \"Topic2\", \"Topic2\", \"Topic2\", \"Topic2\", \"Topic2\", \"Topic3\", \"Topic3\", \"Topic3\", \"Topic3\", \"Topic3\", \"Topic3\", \"Topic3\", \"Topic3\", \"Topic3\", \"Topic3\", \"Topic3\", \"Topic3\", \"Topic3\", \"Topic3\", \"Topic3\", \"Topic3\", \"Topic3\", \"Topic3\", \"Topic3\", \"Topic3\", \"Topic3\", \"Topic3\", \"Topic3\", \"Topic3\", \"Topic3\", \"Topic3\", \"Topic3\", \"Topic3\", \"Topic3\", \"Topic3\", \"Topic3\", \"Topic3\", \"Topic4\", \"Topic4\", \"Topic4\", \"Topic4\", \"Topic4\", \"Topic4\", \"Topic4\", \"Topic4\", \"Topic4\", \"Topic4\", \"Topic4\", \"Topic4\", \"Topic4\", \"Topic4\", \"Topic4\", \"Topic4\", \"Topic4\", \"Topic4\", \"Topic4\", \"Topic4\", \"Topic4\", \"Topic4\", \"Topic4\", \"Topic4\", \"Topic4\", \"Topic4\", \"Topic4\", \"Topic4\", \"Topic4\", \"Topic4\", \"Topic4\", \"Topic4\", \"Topic4\", \"Topic4\", \"Topic4\", \"Topic4\", \"Topic4\", \"Topic4\", \"Topic4\", \"Topic4\", \"Topic4\", \"Topic4\", \"Topic5\", \"Topic5\", \"Topic5\", \"Topic5\", \"Topic5\", \"Topic5\", \"Topic5\", \"Topic5\", \"Topic5\", \"Topic5\", \"Topic5\", \"Topic5\", \"Topic5\", \"Topic5\", \"Topic5\", \"Topic5\", \"Topic5\", \"Topic5\", \"Topic5\", \"Topic5\", \"Topic5\", \"Topic5\", \"Topic5\", \"Topic5\", \"Topic5\", \"Topic5\", \"Topic5\", \"Topic5\", \"Topic5\", \"Topic5\", \"Topic5\", \"Topic5\", \"Topic5\", \"Topic5\", \"Topic5\", \"Topic5\", \"Topic5\", \"Topic5\", \"Topic5\", \"Topic5\", \"Topic6\", \"Topic6\", \"Topic6\", \"Topic6\", \"Topic6\", \"Topic6\", \"Topic6\", \"Topic6\", \"Topic6\", \"Topic6\", \"Topic6\", \"Topic6\", \"Topic6\", \"Topic6\", \"Topic6\", \"Topic6\", \"Topic6\", \"Topic6\", \"Topic6\", \"Topic6\", \"Topic6\", \"Topic6\", \"Topic6\", \"Topic6\", \"Topic6\", \"Topic6\", \"Topic6\", \"Topic6\", \"Topic6\", \"Topic6\", \"Topic6\", \"Topic6\", \"Topic6\", \"Topic6\", \"Topic6\", \"Topic6\", \"Topic7\", \"Topic7\", \"Topic7\", \"Topic7\", \"Topic7\", \"Topic7\", \"Topic7\", \"Topic7\", \"Topic7\", \"Topic7\", \"Topic7\", \"Topic7\", \"Topic7\", \"Topic7\", \"Topic7\", \"Topic7\", \"Topic7\", \"Topic7\", \"Topic7\", \"Topic7\", \"Topic7\", \"Topic7\", \"Topic7\", \"Topic7\", \"Topic7\", \"Topic7\", \"Topic7\", \"Topic7\", \"Topic7\", \"Topic7\", \"Topic7\", \"Topic7\", \"Topic8\", \"Topic8\", \"Topic8\", \"Topic8\", \"Topic8\", \"Topic8\", \"Topic8\", \"Topic8\", \"Topic8\", \"Topic8\", \"Topic8\", \"Topic8\", \"Topic8\", \"Topic8\", \"Topic8\", \"Topic8\", \"Topic8\", \"Topic8\", \"Topic8\", \"Topic8\", \"Topic8\", \"Topic8\", \"Topic8\", \"Topic8\", \"Topic8\", \"Topic8\", \"Topic8\", \"Topic8\", \"Topic8\", \"Topic8\", \"Topic8\", \"Topic8\", \"Topic8\", \"Topic8\", \"Topic8\", \"Topic8\", \"Topic8\", \"Topic8\", \"Topic9\", \"Topic9\", \"Topic9\", \"Topic9\", \"Topic9\", \"Topic9\", \"Topic9\", \"Topic9\", \"Topic9\", \"Topic9\", \"Topic9\", \"Topic9\", \"Topic9\", \"Topic9\", \"Topic9\", \"Topic9\", \"Topic9\", \"Topic9\", \"Topic9\", \"Topic9\", \"Topic9\", \"Topic9\", \"Topic9\", \"Topic9\", \"Topic9\", \"Topic9\", \"Topic9\", \"Topic9\", \"Topic9\", \"Topic9\", \"Topic9\", \"Topic10\", \"Topic10\", \"Topic10\", \"Topic10\", \"Topic10\", \"Topic10\", \"Topic10\", \"Topic10\", \"Topic10\", \"Topic10\", \"Topic10\", \"Topic10\", \"Topic10\", \"Topic10\", \"Topic10\", \"Topic10\", \"Topic10\", \"Topic10\", \"Topic10\", \"Topic10\", \"Topic10\", \"Topic10\", \"Topic10\", \"Topic10\", \"Topic10\", \"Topic10\", \"Topic10\", \"Topic10\", \"Topic10\", \"Topic10\", \"Topic10\", \"Topic10\", \"Topic10\", \"Topic10\", \"Topic10\", \"Topic10\", \"Topic10\", \"Topic10\", \"Topic11\", \"Topic11\", \"Topic11\", \"Topic11\", \"Topic11\", \"Topic11\", \"Topic11\", \"Topic11\", \"Topic11\", \"Topic11\", \"Topic11\", \"Topic11\", \"Topic11\", \"Topic11\", \"Topic11\", \"Topic11\", \"Topic11\", \"Topic11\", \"Topic11\", \"Topic11\", \"Topic11\", \"Topic11\", \"Topic11\", \"Topic11\", \"Topic11\", \"Topic11\", \"Topic11\", \"Topic11\", \"Topic11\", \"Topic11\", \"Topic11\", \"Topic11\", \"Topic11\", \"Topic11\", \"Topic11\", \"Topic11\", \"Topic11\", \"Topic12\", \"Topic12\", \"Topic12\", \"Topic12\", \"Topic12\", \"Topic12\", \"Topic12\", \"Topic12\", \"Topic12\", \"Topic12\", \"Topic12\", \"Topic12\", \"Topic12\", \"Topic12\", \"Topic12\", \"Topic12\", \"Topic12\", \"Topic12\", \"Topic12\", \"Topic12\", \"Topic12\", \"Topic12\", \"Topic12\", \"Topic12\", \"Topic12\", \"Topic12\", \"Topic12\", \"Topic12\", \"Topic12\", \"Topic12\", \"Topic12\", \"Topic12\", \"Topic12\", \"Topic12\", \"Topic12\", \"Topic12\", \"Topic12\", \"Topic12\", \"Topic12\", \"Topic12\", \"Topic12\", \"Topic12\", \"Topic12\", \"Topic12\", \"Topic12\", \"Topic13\", \"Topic13\", \"Topic13\", \"Topic13\", \"Topic13\", \"Topic13\", \"Topic13\", \"Topic13\", \"Topic13\", \"Topic13\", \"Topic13\", \"Topic13\", \"Topic13\", \"Topic13\", \"Topic13\", \"Topic13\", \"Topic13\", \"Topic13\", \"Topic13\", \"Topic13\", \"Topic13\", \"Topic13\", \"Topic13\", \"Topic13\", \"Topic13\", \"Topic13\", \"Topic13\", \"Topic13\", \"Topic13\", \"Topic13\", \"Topic13\", \"Topic13\", \"Topic14\", \"Topic14\", \"Topic14\", \"Topic14\", \"Topic14\", \"Topic14\", \"Topic14\", \"Topic14\", \"Topic14\", \"Topic14\", \"Topic14\", \"Topic14\", \"Topic14\", \"Topic14\", \"Topic14\", \"Topic14\", \"Topic14\", \"Topic14\", \"Topic14\", \"Topic14\", \"Topic14\", \"Topic14\", \"Topic14\", \"Topic14\", \"Topic14\", \"Topic14\", \"Topic14\", \"Topic14\", \"Topic14\", \"Topic14\", \"Topic14\", \"Topic14\", \"Topic14\", \"Topic14\", \"Topic14\", \"Topic15\", \"Topic15\", \"Topic15\", \"Topic15\", \"Topic15\", \"Topic15\", \"Topic15\", \"Topic15\", \"Topic15\", \"Topic15\", \"Topic15\", \"Topic15\", \"Topic15\", \"Topic15\", \"Topic15\", \"Topic15\", \"Topic15\", \"Topic15\", \"Topic15\", \"Topic15\", \"Topic15\", \"Topic15\", \"Topic15\", \"Topic15\", \"Topic15\", \"Topic15\", \"Topic15\", \"Topic15\", \"Topic15\", \"Topic15\", \"Topic15\", \"Topic15\", \"Topic15\", \"Topic15\", \"Topic15\", \"Topic15\", \"Topic15\", \"Topic15\", \"Topic15\", \"Topic16\", \"Topic16\", \"Topic16\", \"Topic16\", \"Topic16\", \"Topic16\", \"Topic16\", \"Topic16\", \"Topic16\", \"Topic16\", \"Topic16\", \"Topic16\", \"Topic16\", \"Topic16\", \"Topic16\", \"Topic16\", \"Topic16\", \"Topic16\", \"Topic16\", \"Topic16\", \"Topic16\", \"Topic16\", \"Topic16\", \"Topic16\", \"Topic16\", \"Topic16\", \"Topic16\", \"Topic16\", \"Topic16\", \"Topic16\", \"Topic16\", \"Topic16\", \"Topic16\", \"Topic16\", \"Topic16\", \"Topic16\", \"Topic16\", \"Topic16\", \"Topic16\", \"Topic16\", \"Topic17\", \"Topic17\", \"Topic17\", \"Topic17\", \"Topic17\", \"Topic17\", \"Topic17\", \"Topic17\", \"Topic17\", \"Topic17\", \"Topic17\", \"Topic17\", \"Topic17\", \"Topic17\", \"Topic17\", \"Topic17\", \"Topic17\", \"Topic17\", \"Topic17\", \"Topic17\", \"Topic17\", \"Topic17\", \"Topic17\", \"Topic17\", \"Topic17\", \"Topic17\", \"Topic17\", \"Topic17\", \"Topic17\", \"Topic17\", \"Topic17\", \"Topic17\", \"Topic17\", \"Topic18\", \"Topic18\", \"Topic18\", \"Topic18\", \"Topic18\", \"Topic18\", \"Topic18\", \"Topic18\", \"Topic18\", \"Topic18\", \"Topic18\", \"Topic18\", \"Topic18\", \"Topic18\", \"Topic18\", \"Topic18\", \"Topic18\", \"Topic18\", \"Topic18\", \"Topic18\", \"Topic18\", \"Topic18\", \"Topic18\", \"Topic18\", \"Topic18\", \"Topic18\", \"Topic18\", \"Topic18\", \"Topic18\", \"Topic18\", \"Topic18\", \"Topic18\", \"Topic18\", \"Topic18\", \"Topic18\", \"Topic18\", \"Topic18\", \"Topic18\", \"Topic18\", \"Topic18\", \"Topic18\", \"Topic18\", \"Topic18\", \"Topic19\", \"Topic19\", \"Topic19\", \"Topic19\", \"Topic19\", \"Topic19\", \"Topic19\", \"Topic19\", \"Topic19\", \"Topic19\", \"Topic19\", \"Topic19\", \"Topic19\", \"Topic19\", \"Topic19\", \"Topic19\", \"Topic19\", \"Topic19\", \"Topic19\", \"Topic19\", \"Topic19\", \"Topic19\", \"Topic19\", \"Topic19\", \"Topic19\", \"Topic19\", \"Topic19\", \"Topic19\", \"Topic19\", \"Topic19\", \"Topic19\", \"Topic19\", \"Topic19\", \"Topic19\", \"Topic19\", \"Topic19\", \"Topic19\", \"Topic19\", \"Topic20\", \"Topic20\", \"Topic20\", \"Topic20\", \"Topic20\", \"Topic20\", \"Topic20\", \"Topic20\", \"Topic20\", \"Topic20\", \"Topic20\", \"Topic20\", \"Topic20\", \"Topic20\", \"Topic20\", \"Topic20\", \"Topic20\", \"Topic20\", \"Topic20\", \"Topic20\", \"Topic20\", \"Topic20\", \"Topic20\", \"Topic20\", \"Topic20\", \"Topic20\", \"Topic20\", \"Topic20\", \"Topic20\", \"Topic20\", \"Topic20\", \"Topic21\", \"Topic21\", \"Topic21\", \"Topic21\", \"Topic21\", \"Topic21\", \"Topic21\", \"Topic21\", \"Topic21\", \"Topic21\", \"Topic21\", \"Topic21\", \"Topic21\", \"Topic21\", \"Topic21\", \"Topic21\", \"Topic21\", \"Topic21\", \"Topic21\", \"Topic21\", \"Topic21\", \"Topic21\", \"Topic21\", \"Topic21\", \"Topic21\", \"Topic21\", \"Topic21\", \"Topic21\", \"Topic21\", \"Topic21\", \"Topic21\", \"Topic21\", \"Topic21\", \"Topic21\", \"Topic21\", \"Topic21\", \"Topic21\", \"Topic21\", \"Topic22\", \"Topic22\", \"Topic22\", \"Topic22\", \"Topic22\", \"Topic22\", \"Topic22\", \"Topic22\", \"Topic22\", \"Topic22\", \"Topic22\", \"Topic22\", \"Topic22\", \"Topic22\", \"Topic22\", \"Topic22\", \"Topic22\", \"Topic22\", \"Topic22\", \"Topic22\", \"Topic22\", \"Topic22\", \"Topic22\", \"Topic22\", \"Topic22\", \"Topic22\", \"Topic22\", \"Topic22\", \"Topic22\", \"Topic22\", \"Topic22\", \"Topic22\", \"Topic22\", \"Topic22\", \"Topic22\", \"Topic22\", \"Topic22\", \"Topic22\", \"Topic22\", \"Topic22\", \"Topic22\", \"Topic23\", \"Topic23\", \"Topic23\", \"Topic23\", \"Topic23\", \"Topic23\", \"Topic23\", \"Topic23\", \"Topic23\", \"Topic23\", \"Topic23\", \"Topic23\", \"Topic23\", \"Topic23\", \"Topic23\", \"Topic23\", \"Topic23\", \"Topic23\", \"Topic23\", \"Topic23\", \"Topic23\", \"Topic23\", \"Topic23\", \"Topic23\", \"Topic23\", \"Topic23\", \"Topic23\", \"Topic23\", \"Topic23\", \"Topic23\", \"Topic23\", \"Topic23\", \"Topic23\", \"Topic23\", \"Topic23\", \"Topic23\", \"Topic23\", \"Topic23\", \"Topic23\", \"Topic23\", \"Topic24\", \"Topic24\", \"Topic24\", \"Topic24\", \"Topic24\", \"Topic24\", \"Topic24\", \"Topic24\", \"Topic24\", \"Topic24\", \"Topic24\", \"Topic24\", \"Topic24\", \"Topic24\", \"Topic24\", \"Topic24\", \"Topic24\", \"Topic24\", \"Topic24\", \"Topic24\", \"Topic24\", \"Topic24\", \"Topic24\", \"Topic24\", \"Topic24\", \"Topic24\", \"Topic24\", \"Topic24\", \"Topic24\", \"Topic24\", \"Topic24\", \"Topic24\", \"Topic24\", \"Topic24\", \"Topic24\", \"Topic24\", \"Topic24\", \"Topic24\", \"Topic24\", \"Topic24\", \"Topic24\", \"Topic24\", \"Topic24\", \"Topic25\", \"Topic25\", \"Topic25\", \"Topic25\", \"Topic25\", \"Topic25\", \"Topic25\", \"Topic25\", \"Topic25\", \"Topic25\", \"Topic25\", \"Topic25\", \"Topic25\", \"Topic25\", \"Topic25\", \"Topic25\", \"Topic25\", \"Topic25\", \"Topic25\", \"Topic25\", \"Topic25\", \"Topic25\", \"Topic25\", \"Topic25\", \"Topic25\", \"Topic25\", \"Topic25\", \"Topic25\", \"Topic25\", \"Topic25\", \"Topic25\", \"Topic25\", \"Topic25\", \"Topic25\", \"Topic25\", \"Topic25\", \"Topic25\"], \"logprob\": [30.0, 29.0, 28.0, 27.0, 26.0, 25.0, 24.0, 23.0, 22.0, 21.0, 20.0, 19.0, 18.0, 17.0, 16.0, 15.0, 14.0, 13.0, 12.0, 11.0, 10.0, 9.0, 8.0, 7.0, 6.0, 5.0, 4.0, 3.0, 2.0, 1.0, -3.511, -0.6631, -3.9359, -4.0969, -4.5024, -4.6837, -4.7421, -4.75, -5.15, -5.2562, -5.3787, -2.5825, -2.8782, -5.6131, -5.6137, -6.0099, -1.8803, -6.2833, -6.6011, -3.989, -7.2206, -3.7847, -6.251, -5.5862, -11.243, -11.2431, -11.2431, -11.2431, -11.2431, -11.2431, -11.2431, -11.2431, -11.2419, -11.2426, -2.2753, -2.7278, -2.9527, -3.152, -3.4561, -3.5524, -3.8206, -4.1414, -4.3096, -4.3322, -4.5168, -4.8801, -4.8801, -4.8801, -4.8965, -4.8965, -4.9744, -2.5271, -5.1194, -5.2033, -5.4297, -3.7263, -1.431, -3.9169, -3.3806, -4.5457, -3.4143, -3.4536, -4.501, -10.2014, -10.2014, -10.1419, -1.2683, -2.1249, -2.512, -2.8592, -3.2254, -3.5214, -3.5479, -3.6664, -3.8063, -4.3542, -4.4184, -4.7709, -5.8047, -4.5181, -6.4536, -6.5267, -7.2784, -3.1374, -2.5278, -3.5698, -2.9505, -10.2249, -10.225, -10.225, -10.225, -10.225, -10.225, -10.225, -10.225, -10.225, -5.6092, -10.0585, -1.4868, -1.9014, -2.7502, -2.894, -3.7783, -3.9407, -4.7476, -1.8563, -2.6572, -2.2498, -2.8974, -10.0578, -10.0578, -10.0578, -10.0578, -10.0578, -10.0578, -10.0578, -10.0578, -10.0578, -10.0578, -10.0578, -10.0578, -10.0578, -10.0578, -10.0578, -10.0578, -10.0578, -10.0578, -10.0578, -10.0578, -10.0578, -10.0578, -10.0578, -10.0578, -10.0578, -10.0578, -10.0578, -10.0578, -10.0578, -10.0578, -10.0569, -1.4539, -1.8082, -2.2422, -2.5884, -2.9936, -3.5228, -4.0297, -5.3663, -6.0748, -1.8101, -5.376, -3.8017, -3.2773, -4.0483, -10.0049, -10.0049, -10.0049, -10.0049, -10.0049, -10.0049, -10.0049, -10.0049, -10.0049, -10.0049, -10.0049, -10.0049, -10.0049, -10.0049, -10.0049, -10.0049, -10.0049, -10.0049, -10.0049, -10.0049, -10.0049, -9.533, -9.7772, -9.9978, -10.0015, -10.0049, -1.8844, -2.4239, -2.4722, -2.7803, -3.1503, -3.3834, -3.7116, -3.9827, -4.484, -4.6341, -4.7216, -5.1265, -2.678, -5.187, -5.191, -5.4565, -3.8394, -6.8486, -3.687, -6.8897, -3.7931, -1.8018, -3.271, -9.663, -9.663, -9.663, -9.663, -9.663, -9.663, -9.663, -9.663, -9.663, -9.663, -9.663, -9.663, -9.5724, -1.8541, -1.9628, -2.9605, -3.1358, -3.2083, -3.6726, -4.0846, -4.2436, -4.246, -4.3447, -4.6071, -4.6664, -5.2914, -5.7684, -2.077, -6.0521, -6.0989, -1.7958, -4.0476, -2.8764, -10.1067, -10.1067, -10.1067, -10.1067, -10.1067, -10.1067, -10.1067, -10.1067, -10.1067, -10.1067, -3.8085, -8.185, -1.5266, -2.0089, -2.1484, -2.3184, -2.8929, -2.9435, -3.2783, -4.3073, -2.9346, -3.832, -2.5891, -3.2505, -9.8811, -9.8811, -9.8811, -9.8811, -9.8811, -9.8811, -9.8811, -9.8811, -9.8811, -9.8811, -9.8811, -9.8811, -9.8811, -9.8811, -9.8811, -9.8811, -9.8811, -9.8811, -9.8811, -5.2296, -9.8811, -9.8811, -9.8811, -9.8811, -9.8811, -9.8811, -2.6803, -2.6885, -2.7041, -2.9426, -2.9498, -3.1282, -3.1813, -3.2211, -3.2218, -3.285, -3.4283, -3.5817, -3.6699, -3.6749, -3.7806, -3.7976, -4.0026, -4.012, -4.0776, -4.1237, -4.1521, -4.1672, -4.3062, -4.3067, -4.3448, -4.731, -5.8495, -2.9135, -4.166, -4.8943, -4.5395, -1.0933, -1.5275, -1.7118, -2.8918, -3.4389, -3.5483, -3.7163, -4.3736, -4.3823, -4.969, -5.8371, -6.75, -9.7619, -9.7619, -9.7619, -9.7619, -9.7619, -9.7619, -9.7619, -9.7619, -9.7619, -9.7619, -9.7619, -9.7619, -9.7619, -9.7619, -9.7619, -9.7619, -9.7619, -9.7619, -9.7619, -9.7619, -9.7619, -9.7619, -9.7619, -9.7619, -9.7619, -9.5527, -1.6752, -1.8701, -2.1765, -2.3353, -2.8413, -2.9035, -3.7376, -2.844, -4.9012, -5.1705, -5.681, -6.2664, -6.3664, -6.9363, -2.3867, -9.3219, -9.3219, -9.3219, -9.3219, -9.3219, -9.3219, -9.3219, -9.3219, -9.3219, -9.3219, -9.3219, -9.3219, -9.3219, -9.3219, -9.3219, -9.3219, -9.3219, -9.3219, -9.3219, -9.3219, -9.3042, -9.3219, -1.643, -3.0044, -3.1087, -0.7617, -3.1394, -2.4703, -9.5028, -9.5028, -9.5028, -9.5028, -9.5028, -9.5028, -9.5028, -9.5028, -9.5028, -9.5028, -9.5028, -9.5028, -9.5028, -9.5028, -9.5028, -9.5028, -9.5028, -9.5028, -9.5028, -9.5028, -9.5028, -9.5028, -9.5028, -9.5028, -9.5028, -9.5028, -9.5028, -9.5028, -9.5028, -9.5028, -9.5028, -9.5028, -9.5028, -9.5028, -9.5028, -9.5028, -9.5028, -9.5028, -9.5026, -1.5806, -1.6011, -2.229, -2.5933, -3.1844, -3.2238, -3.7027, -3.7308, -3.8124, -4.0626, -4.0645, -4.591, -6.6362, -3.5209, -3.9756, -3.0387, -9.51, -9.51, -9.51, -9.51, -9.51, -9.51, -9.51, -9.51, -9.51, -9.51, -9.51, -9.51, -9.51, -9.51, -9.51, -9.4922, -1.6452, -2.1916, -2.4876, -2.5633, -2.6407, -2.8847, -2.9203, -3.1466, -3.3321, -3.3468, -3.3641, -4.3616, -5.2807, -5.8732, -5.9515, -6.2901, -4.3967, -3.9405, -9.3035, -9.3036, -9.3036, -9.3036, -9.3036, -9.3036, -9.3036, -9.3036, -9.3036, -9.3036, -9.3036, -9.3036, -9.3036, -6.475, -5.416, -7.6783, -9.3026, -1.2694, -1.9526, -2.2963, -2.6502, -2.916, -3.7974, -3.8324, -4.8562, -4.9389, -2.6576, -6.165, -2.9465, -9.2367, -9.2367, -9.2367, -9.2367, -9.2367, -9.2367, -9.2367, -9.2367, -9.2367, -9.2367, -9.2367, -9.2367, -9.2367, -9.2367, -9.2367, -9.2367, -9.2367, -9.2367, -9.2367, -4.2063, -9.2367, -9.2367, -9.2367, -9.2367, -9.2367, -8.2144, -9.2367, -1.6319, -2.0964, -2.4475, -2.5041, -2.5587, -2.8046, -3.3205, -3.9839, -4.3018, -4.5702, -4.8697, -4.8698, -5.0865, -5.4707, -2.4332, -4.993, -9.3133, -9.3133, -9.3133, -9.3133, -9.3133, -9.3133, -9.3133, -9.3133, -9.3133, -9.3133, -9.3133, -9.3133, -9.3133, -9.3133, -3.352, -9.3133, -9.3133, -9.3133, -9.3133, -8.0681, -9.3133, -9.3133, -9.3133, -9.313, -1.2771, -1.9401, -2.7562, -2.7823, -3.1824, -3.24, -3.5706, -5.4453, -5.7299, -5.7936, -5.9395, -2.465, -6.7955, -2.2677, -9.3213, -9.3213, -9.3213, -9.3213, -9.3213, -9.3213, -9.3213, -9.3213, -9.3213, -9.3213, -9.3213, -9.3213, -9.3213, -9.3213, -9.3213, -9.3213, -9.3213, -9.3213, -9.3211, -0.8886, -1.7387, -1.898, -2.753, -3.2217, -9.1987, -9.1987, -9.1987, -9.1987, -9.1987, -9.1987, -9.1987, -9.1987, -9.1987, -9.1987, -9.1987, -9.1987, -9.1987, -9.1987, -9.1987, -9.1987, -9.1987, -9.1987, -9.1987, -9.1987, -9.1987, -9.1987, -9.1987, -9.1987, -9.1987, -9.1987, -9.1987, -9.1987, -9.1987, -9.1987, -9.1987, -9.1987, -9.1987, -9.1987, -9.1987, -9.1987, -9.1784, -9.198, -2.3145, -2.378, -2.5946, -3.3571, -3.4201, -3.4691, -4.0839, -4.4004, -2.303, -2.1556, -5.3766, -2.2811, -2.8555, -2.6256, -9.2319, -9.232, -9.232, -9.2319, -9.232, -9.232, -9.232, -9.232, -9.232, -9.232, -9.232, -9.232, -9.232, -9.232, -9.232, -9.232, -9.232, -9.232, -9.232, -9.232, -9.232, -9.232, -9.2251, -9.2298, -1.0071, -2.0788, -2.2994, -2.5524, -2.6343, -2.8952, -4.4179, -4.5023, -4.8097, -4.8625, -9.1597, -9.1597, -9.1597, -9.1598, -9.1598, -9.1598, -9.1598, -9.1598, -9.1598, -9.1598, -9.1598, -9.1598, -9.1598, -9.1598, -9.1598, -9.1598, -9.1598, -9.1598, -9.1598, -9.1598, -9.0924, -1.5038, -2.1399, -2.3302, -2.3434, -2.789, -3.2088, -3.348, -3.8335, -4.6316, -4.6951, -2.3246, -9.0129, -9.0129, -9.0129, -9.0129, -9.0129, -9.0129, -9.0129, -9.0129, -9.0129, -9.0129, -9.0129, -9.0129, -9.0129, -9.0129, -9.0129, -9.0129, -9.0129, -9.0129, -9.0129, -9.0129, -9.0129, -9.0129, -9.0129, -9.0129, -9.0129, -9.0129, -9.012, -1.419, -2.4646, -2.4825, -2.5958, -1.5671, -2.7786, -6.267, -3.0186, -4.8559, -9.0451, -9.0451, -9.0451, -9.0451, -9.0451, -9.0451, -9.0451, -9.0451, -9.0451, -9.0451, -9.0451, -9.0451, -9.0451, -9.0451, -9.0451, -9.0451, -9.0451, -9.0451, -9.0451, -9.0451, -9.0451, -9.0451, -9.0451, -9.0451, -9.0451, -9.0451, -9.0451, -9.0451, -9.0451, -9.0451, -9.0451, -9.0451, -1.7521, -2.3451, -2.3529, -2.4197, -3.1761, -3.4524, -4.3751, -1.5477, -6.0009, -4.4865, -9.1587, -9.1587, -9.1587, -9.1587, -9.1587, -9.1587, -9.1587, -9.1587, -9.1587, -9.1587, -9.1587, -9.1587, -9.1587, -9.1587, -9.1587, -9.1587, -9.1587, -9.1587, -9.1587, -9.1587, -2.9193, -4.2191, -9.1587, -9.1587, -9.1587, -8.0144, -9.1587, -9.1587, -9.1587, -9.1587, -1.7018, -1.8668, -1.8991, -2.4428, -2.5482, -2.7323, -3.5314, -3.881, -5.5114, -8.856, -8.856, -8.856, -8.856, -8.856, -8.856, -8.856, -8.856, -8.856, -8.856, -8.856, -8.856, -8.856, -8.856, -8.856, -8.856, -8.856, -8.856, -8.856, -8.856, -8.856, -8.856, -5.2739, -8.856, -8.856, -8.856, -8.856, -8.856, -8.856, -8.856, -8.856, -8.7935, -8.8452, -8.856, -0.589, -8.1752, -8.1752, -8.1752, -8.1752, -8.1752, -8.1752, -8.1752, -8.1752, -8.1752, -8.1752, -8.1752, -8.1752, -8.1752, -8.1752, -8.1752, -8.1752, -8.1752, -8.1752, -8.1752, -8.1752, -8.1752, -8.1752, -8.1752, -8.1752, -8.1752, -8.1752, -8.1752, -8.1752, -8.1752, -8.1752, -8.1752, -8.1752, -8.1752, -8.1752, -8.1752, -8.1752], \"loglift\": [30.0, 29.0, 28.0, 27.0, 26.0, 25.0, 24.0, 23.0, 22.0, 21.0, 20.0, 19.0, 18.0, 17.0, 16.0, 15.0, 14.0, 13.0, 12.0, 11.0, 10.0, 9.0, 8.0, 7.0, 6.0, 5.0, 4.0, 3.0, 2.0, 1.0, 1.6087, 1.6051, 1.6038, 1.6014, 1.5931, 1.5882, 1.5864, 1.5862, 1.5709, 1.5657, 1.5591, 1.5547, 1.5461, 1.5441, 1.5441, 1.51, 1.5077, 1.4783, 1.4306, 1.3809, 1.2938, 1.1962, -0.2876, -0.3496, -1.4906, -1.4906, -1.4906, -1.4906, -1.4906, -1.4906, -1.4906, -1.4906, -6.0746, -6.2107, 2.6486, 2.6442, 2.6412, 2.6379, 2.6315, 2.629, 2.6208, 2.6076, 2.599, 2.5978, 2.5863, 2.5572, 2.5572, 2.5572, 2.5556, 2.5556, 2.5479, 2.5472, 2.532, 2.5218, 2.4903, 2.4303, 2.2205, 1.6602, 1.3544, 1.237, 0.6424, -0.0359, -0.0768, -0.4489, -0.4489, -4.4128, 2.8694, 2.8647, 2.8608, 2.8558, 2.8483, 2.8399, 2.8391, 2.8349, 2.8293, 2.7986, 2.7939, 2.7622, 2.5883, 2.5776, 2.3843, 2.3554, 1.9819, 1.8022, 1.795, 1.7804, 0.4672, -0.4725, -0.4725, -0.4725, -0.4725, -0.4725, -0.4725, -0.4725, -0.4725, -0.4725, -1.9577, -7.7904, 2.8765, 2.8742, 2.8654, 2.863, 2.8383, 2.831, 2.7723, 2.6628, 2.5794, 1.4017, 0.5203, -0.3053, -0.3053, -0.3053, -0.3053, -0.3053, -0.3053, -0.3053, -0.3053, -0.3053, -0.3053, -0.3053, -0.3053, -0.3053, -0.3053, -0.3053, -0.3053, -0.3053, -0.3053, -0.3053, -0.3053, -0.3053, -0.3053, -0.3053, -0.3053, -0.3053, -0.3053, -0.3053, -0.3053, -0.3053, -0.3053, -7.7888, 2.9305, 2.9286, 2.9251, 2.9211, 2.9142, 2.9, 2.8776, 2.7323, 2.5591, 2.5128, 2.2872, 2.1507, 0.1404, 0.089, -0.2525, -0.2525, -0.2525, -0.2525, -0.2525, -0.2525, -0.2525, -0.2525, -0.2525, -0.2525, -0.2525, -0.2525, -0.2525, -0.2525, -0.2525, -0.2525, -0.2525, -0.2525, -0.2525, -0.2525, -0.2525, -7.2649, -6.3891, -5.1545, -6.3501, -4.6285, 2.9589, 2.9539, 2.9533, 2.9488, 2.9413, 2.9349, 2.9232, 2.9103, 2.8757, 2.8618, 2.8528, 2.8008, 2.7936, 2.7914, 2.7908, 2.7431, 2.5447, 2.2707, 2.2653, 2.2499, 1.9155, 1.6159, 0.117, 0.0894, 0.0894, 0.0894, 0.0894, 0.0894, 0.0894, 0.0894, 0.0894, 0.0894, 0.0894, 0.0894, 0.0894, -5.1482, 2.9769, 2.9761, 2.9628, 2.9588, 2.9569, 2.9412, 2.9202, 2.9096, 2.9094, 2.902, 2.8786, 2.8725, 2.7849, 2.6803, 2.658, 2.5979, 2.5827, 2.5215, 1.5843, 0.5414, -0.3542, -0.3542, -0.3543, -0.3543, -0.3543, -0.3543, -0.3543, -0.3543, -0.3543, -0.3543, -1.5404, -4.5336, 3.2337, 3.2296, 3.228, 3.2258, 3.2147, 3.2134, 3.2029, 2.0768, 1.5845, 1.1076, 0.8286, 0.1375, -0.1286, -0.1286, -0.1286, -0.1286, -0.1286, -0.1286, -0.1286, -0.1286, -0.1286, -0.1286, -0.1286, -0.1286, -0.1286, -0.1286, -0.1286, -0.1286, -0.1286, -0.1286, -0.1286, -0.9124, -0.1286, -0.1286, -0.1286, -0.1286, -0.1286, -0.1286, 3.2295, 3.2293, 3.229, 3.2233, 3.2231, 3.2179, 3.2161, 3.2148, 3.2148, 3.2125, 3.2068, 3.1998, 3.1952, 3.1949, 3.189, 3.1879, 3.1743, 3.1736, 3.1686, 3.1649, 3.1625, 3.1613, 3.1486, 3.1486, 3.1448, 3.0987, 2.8443, 2.7951, 1.3056, 0.0454, -0.8881, 3.3651, 3.3625, 3.361, 3.3409, 3.3203, 3.3147, 3.305, 3.2481, 3.2471, 3.1589, 2.9254, 2.4966, -0.0094, -0.0094, -0.0094, -0.0094, -0.0094, -0.0095, -0.0095, -0.0095, -0.0095, -0.0095, -0.0095, -0.0095, -0.0095, -0.0095, -0.0095, -0.0095, -0.0095, -0.0095, -0.0095, -0.0095, -0.0095, -0.0095, -0.0095, -0.0095, -0.0095, -7.2846, 3.4056, 3.4037, 3.3998, 3.3973, 3.3861, 3.3843, 3.3464, 3.3003, 3.211, 3.1557, 3.0143, 2.7812, 2.733, 2.4112, 1.9306, 0.4305, 0.4305, 0.4305, 0.4305, 0.4305, 0.4305, 0.4305, 0.4305, 0.4305, 0.4305, 0.4305, 0.4305, 0.4305, 0.4305, 0.4305, 0.4305, 0.4305, 0.4305, 0.4305, 0.4305, -5.9162, -7.0538, 3.4328, 3.4072, 3.4035, 3.295, 1.1779, 0.9474, 0.2497, 0.2497, 0.2496, 0.2496, 0.2496, 0.2496, 0.2496, 0.2496, 0.2496, 0.2496, 0.2496, 0.2496, 0.2496, 0.2496, 0.2496, 0.2496, 0.2496, 0.2496, 0.2496, 0.2496, 0.2496, 0.2496, 0.2496, 0.2496, 0.2496, 0.2496, 0.2496, 0.2496, 0.2496, 0.2496, 0.2496, 0.2496, 0.2496, 0.2496, 0.2496, 0.2496, 0.2496, 0.2496, -6.1146, 3.4514, 3.4512, 3.4436, 3.4365, 3.4179, 3.4163, 3.3904, 3.3885, 3.3826, 3.3617, 3.3615, 3.2986, 2.604, 1.849, 1.2611, 0.3791, 0.2424, 0.2424, 0.2424, 0.2424, 0.2424, 0.2424, 0.2424, 0.2424, 0.2424, 0.2424, 0.2424, 0.2424, 0.2424, 0.2424, 0.2424, -2.7432, 3.4802, 3.4734, 3.4679, 3.4662, 3.4644, 3.4576, 3.4564, 3.4482, 3.44, 3.4392, 3.4384, 3.3565, 3.1846, 2.9919, 2.9604, 2.8072, 1.7598, 1.1338, 0.4489, 0.4489, 0.4489, 0.4489, 0.4489, 0.4489, 0.4489, 0.4489, 0.4489, 0.4489, 0.4489, 0.4489, 0.4489, -1.1807, -3.1478, -2.2067, -4.9853, 3.5853, 3.5784, 3.5726, 3.5643, 3.5559, 3.5064, 3.5035, 3.3622, 3.3446, 3.3058, 2.9202, 1.9932, 0.5158, 0.5157, 0.5157, 0.5157, 0.5157, 0.5157, 0.5157, 0.5157, 0.5157, 0.5157, 0.5157, 0.5157, 0.5157, 0.5157, 0.5157, 0.5157, 0.5157, 0.5157, 0.5157, -0.7886, 0.5157, 0.5157, 0.5157, 0.5157, 0.5157, -5.9463, 0.5157, 3.6261, 3.6198, 3.6127, 3.6113, 3.6099, 3.6025, 3.58, 3.5291, 3.4916, 3.4508, 3.3932, 3.3932, 3.3422, 3.2292, 2.5476, 1.1514, 0.4392, 0.4392, 0.4392, 0.4392, 0.4392, 0.4392, 0.4392, 0.4392, 0.4392, 0.4392, 0.4392, 0.4392, 0.4392, 0.4392, 0.0657, 0.4392, 0.4392, 0.4392, 0.4392, -4.6801, 0.4392, 0.4392, 0.4392, -3.4402, 3.6878, 3.6803, 3.661, 3.6601, 3.643, 3.6399, 3.6189, 3.2759, 3.1689, 3.1424, 3.0777, 2.8851, 2.5927, 1.3837, 0.4312, 0.4312, 0.4312, 0.4312, 0.4312, 0.4312, 0.4312, 0.4312, 0.4312, 0.4312, 0.4312, 0.4312, 0.4312, 0.4312, 0.4312, 0.4312, 0.4312, 0.4312, -4.8019, 3.7521, 3.7444, 3.7421, 3.7211, 3.6997, 0.5538, 0.5538, 0.5538, 0.5538, 0.5538, 0.5538, 0.5538, 0.5538, 0.5538, 0.5538, 0.5538, 0.5538, 0.5538, 0.5538, 0.5538, 0.5538, 0.5538, 0.5538, 0.5538, 0.5538, 0.5538, 0.5538, 0.5538, 0.5538, 0.5538, 0.5538, 0.5538, 0.5538, 0.5538, 0.5538, 0.5538, 0.5538, 0.5538, 0.5538, 0.5538, 0.5538, -4.0111, -4.1457, 3.7553, 3.7537, 3.7475, 3.7118, 3.7075, 3.704, 3.6439, 3.5978, 3.4797, 3.4763, 3.3546, 3.2961, 2.3869, 0.7922, 0.5205, 0.5205, 0.5205, 0.5205, 0.5205, 0.5205, 0.5205, 0.5205, 0.5205, 0.5205, 0.5205, 0.5205, 0.5205, 0.5205, 0.5205, 0.5205, 0.5205, 0.5205, 0.5205, 0.5205, 0.5205, 0.5205, -4.5843, -6.9616, 3.8072, 3.794, 3.7892, 3.7821, 3.7794, 3.7693, 3.6236, 3.6084, 3.5436, 2.8008, 0.5927, 0.5927, 0.5927, 0.5927, 0.5927, 0.5927, 0.5927, 0.5927, 0.5927, 0.5927, 0.5927, 0.5927, 0.5927, 0.5927, 0.5927, 0.5927, 0.5927, 0.5927, 0.5927, 0.5927, -6.8243, 3.8425, 3.8322, 3.8277, 3.8273, 3.8125, 3.7914, 3.7823, 3.7398, 3.6158, 3.602, 2.615, 0.7396, 0.7396, 0.7396, 0.7396, 0.7396, 0.7396, 0.7396, 0.7396, 0.7396, 0.7396, 0.7396, 0.7396, 0.7396, 0.7396, 0.7396, 0.7396, 0.7396, 0.7396, 0.7396, 0.7396, 0.7396, 0.7396, 0.7396, 0.7396, 0.7396, 0.7396, -4.5536, 3.8753, 3.8637, 3.8631, 3.8593, 3.8554, 3.8522, 3.0016, 2.3315, 2.2397, 0.7073, 0.7073, 0.7073, 0.7073, 0.7073, 0.7073, 0.7073, 0.7073, 0.7073, 0.7073, 0.7073, 0.7073, 0.7073, 0.7073, 0.7073, 0.7073, 0.7073, 0.7073, 0.7073, 0.7073, 0.7073, 0.7073, 0.7073, 0.7073, 0.7073, 0.7073, 0.7073, 0.7073, 0.7073, 0.7073, 0.7073, 0.7073, 3.9764, 3.9625, 3.9622, 3.9601, 3.9233, 3.9019, 3.7768, 3.6946, 3.1911, 1.4769, 0.5937, 0.5937, 0.5937, 0.5937, 0.5937, 0.5937, 0.5937, 0.5937, 0.5937, 0.5937, 0.5937, 0.5937, 0.5937, 0.5937, 0.5937, 0.5937, 0.5937, 0.5937, 0.5937, 0.5937, 0.4984, 0.0982, 0.5937, 0.5937, 0.5937, -4.363, 0.5937, 0.5937, 0.5937, 0.5937, 4.2388, 4.235, 4.2341, 4.2156, 4.2108, 4.201, 4.1329, 4.0841, 3.5751, 0.8965, 0.8965, 0.8965, 0.8965, 0.8965, 0.8965, 0.8965, 0.8965, 0.8965, 0.8965, 0.8965, 0.8965, 0.8965, 0.8965, 0.8965, 0.8964, 0.8964, 0.8964, 0.8964, 0.8964, 0.8964, 0.8964, 0.6784, 0.8964, 0.8964, 0.8964, 0.8964, 0.8964, 0.8964, 0.8964, 0.8964, -3.4236, -6.577, 0.8964, 5.6229, 1.5773, 1.5773, 1.5773, 1.5773, 1.5773, 1.5773, 1.5773, 1.5773, 1.5773, 1.5773, 1.5773, 1.5773, 1.5773, 1.5773, 1.5773, 1.5773, 1.5773, 1.5773, 1.5773, 1.5773, 1.5773, 1.5773, 1.5773, 1.5773, 1.5773, 1.5773, 1.5773, 1.5773, 1.5773, 1.5773, 1.5773, 1.5773, 1.5773, 1.5773, 1.5773, 1.5773]}, \"token.table\": {\"Topic\": [17, 15, 2, 12, 10, 22, 1, 13, 9, 6, 18, 5, 16, 16, 8, 9, 11, 2, 7, 7, 4, 19, 23, 3, 10, 1, 14, 10, 17, 14, 2, 23, 6, 6, 1, 7, 9, 14, 3, 8, 9, 15, 21, 20, 9, 13, 24, 9, 13, 2, 10, 9, 9, 9, 16, 9, 3, 5, 11, 17, 7, 6, 19, 19, 1, 1, 7, 10, 9, 15, 21, 5, 3, 13, 16, 23, 9, 4, 21, 14, 1, 16, 11, 1, 8, 2, 3, 4, 5, 6, 7, 8, 12, 13, 15, 16, 19, 23, 16, 9, 1, 11, 16, 14, 11, 3, 14, 17, 9, 17, 3, 22, 3, 3, 8, 6, 13, 9, 6, 5, 13, 3, 18, 15, 12, 4, 8, 16, 7, 3, 19, 9, 1, 24, 11, 16, 1, 15, 16, 16, 2, 3, 4, 9, 17, 1, 24, 16, 1, 6, 8, 9, 9, 3, 5, 14, 2, 7, 8, 1, 5, 10, 3, 10, 24, 2, 13, 9, 3, 2, 2, 2, 21, 24, 20, 24, 1, 1, 13, 21, 13, 2, 1, 13, 25, 21, 23, 9, 22, 1, 15, 23, 7, 24, 10, 18, 19, 2, 6, 20, 15, 2, 3, 7, 6, 6, 13, 14, 8, 9, 2, 5, 6, 14, 6, 13, 6, 4, 14, 2, 16, 9, 16, 14, 17, 1, 2, 9, 20, 6, 5, 3, 7, 19, 11, 22, 4, 9, 15, 17, 19, 2, 4, 5, 20, 10, 7, 15, 17, 7, 23, 15, 17, 23, 22, 3, 2, 1, 2, 9, 2, 14, 14, 14, 6, 10, 11, 5, 6, 24, 7, 6, 9, 19, 1, 5, 16, 13, 2, 22, 11, 20, 2, 19, 5, 21, 7, 11, 7, 9, 21, 6, 8, 9, 16, 14, 12, 4, 19, 23, 22, 18, 3, 7, 7, 21, 23, 20, 15, 6, 14, 10, 5, 13, 8, 19, 2, 19, 9, 17, 7, 3, 17, 22, 24, 7, 9, 20, 15, 2, 24, 12, 14, 1, 4, 13, 11, 14, 18, 2, 6, 23, 20, 6, 21, 3, 7, 8, 11, 12, 23, 17, 21, 2, 14, 2, 2, 10, 3, 11, 11, 9, 19, 1, 11, 1, 14, 22, 6, 9, 8, 1, 4, 20, 17], \"Freq\": [0.993063857498228, 0.712447586701313, 0.13261216861161107, 0.8632792152755858, 0.46662256309652206, 0.9551883900287685, 0.7927527192379382, 0.20302203785361833, 0.9531477611717551, 0.8764987492661216, 0.9880470749782768, 0.9958128912159459, 0.540245917640071, 0.8728461429235449, 0.9918994993762258, 0.955449814056347, 0.9800444044479234, 0.988175815779393, 0.9927028583651014, 0.8823168836970621, 0.9925555740033505, 0.9388142607914967, 0.9554586990388388, 0.9829702331181397, 0.9931062706751693, 0.9787579356108331, 0.6372442991083328, 0.9697271208271723, 0.6840329163936087, 0.9723682775125537, 0.9858950001747586, 0.9142565674193569, 0.9830876742914388, 0.9192415444709923, 0.9869278278582794, 0.010869249205487657, 0.0004347699682195063, 0.001304309904658519, 0.3458113299794275, 0.11946209581107495, 0.03772487236139209, 0.2011993192607578, 0.28922402143733933, 0.7639863249604687, 0.959320133390057, 0.8996328645735444, 0.9468600809506336, 0.9220627491248917, 0.46363030849448533, 0.9151760416244542, 0.9623011632583639, 0.9486503979711067, 0.9241340292748839, 0.9865557873040501, 0.6979795397404038, 0.9506393709066608, 0.33933238455469555, 0.6549115021905624, 0.9919027736693397, 0.551847856553621, 0.9421251029329076, 0.9311632596984186, 0.9732914784222045, 0.9712019698537377, 0.9800508273715521, 0.9240456899713944, 0.9726521512764021, 0.7621967709187704, 0.9725590784247466, 0.9603747153814827, 0.96073381125347, 0.976792848425262, 0.9623527018705756, 0.9615445106102171, 0.9780269973581007, 0.9824414523295919, 0.8909706868295142, 0.9425994553741912, 0.9690183992401585, 0.6408376668885732, 0.6552010021177912, 0.33415251108007354, 0.5162073115741856, 0.976890425394622, 0.9704318584423471, 0.06725278286356252, 0.09058538099990054, 0.09470289831807784, 0.06176275977265946, 0.25940359104516975, 0.08646786368172324, 0.08921287522717478, 0.08235034636354595, 0.04529269049995027, 0.012352551954531893, 0.027450115454515315, 0.05078271359085333, 0.030195126999966848, 0.9546613713812987, 0.9573978826165171, 0.9937027527613582, 0.4027641087354949, 0.6979724043273166, 0.9714073904639633, 0.3824227644465238, 0.7948960147038306, 0.4019170284239605, 0.9542875406621022, 0.8857713886687367, 0.9644361750387975, 0.7602301491050666, 0.217208614030019, 0.6201534898818465, 0.9889914961782447, 0.9769983066202338, 0.959029083522538, 0.9051837245300056, 0.9332219241837096, 0.9935215804756385, 0.7586113661819516, 0.9725604757787569, 0.991462044794228, 0.9932461435060753, 0.9933789694969932, 0.9590268840730317, 0.8051562888170295, 0.1899343040286326, 0.9855368889030999, 0.9473517570166362, 0.9199622296926673, 0.9196843618708547, 0.984793269019563, 0.9853755390149792, 0.8630897662756399, 0.9018733996930929, 0.0838951999714505, 0.9655287319154231, 0.9880546312031269, 0.984153564817366, 0.8219668737224077, 0.6467342593423576, 0.008669360044803722, 0.2271372331738575, 0.015604848080646699, 0.09883070451076242, 0.6730729394307979, 0.9694402433709614, 0.9381722020312709, 0.8953219201630381, 0.05728994429614678, 0.04529902572253467, 0.9786855687130821, 0.5369091287509437, 0.9771668221180412, 0.9697794431245718, 0.9679725732868022, 0.27157240396857657, 0.7224850747088546, 0.9693727424962417, 0.9385029216392339, 0.05918486893220394, 0.9260114772858851, 0.6481819146642211, 0.9189688794322932, 0.9748833971023674, 0.8668634590849855, 0.906758337841796, 0.9751766942929536, 0.47306586750907514, 0.9171218006829647, 0.9458630166577969, 0.9901935046442584, 0.9377599899329568, 0.9848464802458368, 0.8389172122449436, 0.7772353453411871, 0.8308292959218857, 0.9582237628551383, 0.9451937413475326, 0.859008423793457, 0.9641385027400247, 0.9709902327448316, 0.9275110308288963, 0.9921859194261442, 0.9648656764909913, 0.9710119836949146, 0.9265709020868723, 0.030569009450088152, 0.9578289627694287, 0.1400127695756149, 0.7525686364689301, 0.08750798098475931, 0.8404240746814334, 0.9232917450277528, 0.9947701240123379, 0.9579812249196508, 0.9516637005348322, 0.9169527216924429, 0.9749303273589872, 0.9639097123038218, 0.9873205732311747, 0.9597127232490441, 0.9152429567768433, 0.9637390103148336, 0.9734750462733762, 0.8188557792215644, 0.9929609278217485, 0.9917375501263237, 0.9932157133459656, 0.9051738584858455, 0.9169527216924429, 0.989354394064552, 0.4108489769674816, 0.9870272033554618, 0.7876483724930208, 0.981382268604276, 0.8913305960596702, 0.9824272026610245, 0.931587601189467, 0.9797308219009946, 0.9067792943328505, 0.9643565138467922, 0.9834014050722981, 0.9562656637871306, 0.9811949861535922, 0.9705798603740716, 0.9202127074282257, 0.9711911590863662, 0.9928690893551819, 0.9841759719349782, 0.9868564579163548, 0.9597991971992851, 0.25127780805464417, 0.7412695337612003, 0.7503793985852232, 0.9578843336445303, 0.941704005193118, 0.9544534102792617, 0.8344015722641612, 0.9607823674507551, 0.9733616821338306, 0.8519526975507801, 0.9130456600241451, 0.4789723549882211, 0.3831778839905769, 0.9911605837904657, 0.9751856107908682, 0.8976079950063236, 0.6591302777691513, 0.930554003443269, 0.4418178137564483, 0.3970669568550033, 0.9628424277574972, 0.9703043955642254, 0.4769582075034701, 0.9250786913921712, 0.9306907332770941, 0.9313130038899876, 0.06384000429891044, 0.9468655888358842, 0.8992215599720998, 0.0935190422370984, 0.9429617100161997, 0.6678026436303125, 0.9913743769313188, 0.5750724253136122, 0.7434832679416348, 0.45004305743726425, 0.5019711025261794, 0.03461869672594341, 0.9222926226318161, 0.8455252526738055, 0.13913706689568953, 0.5574178700595515, 0.8455287771572599, 0.8882796677282329, 0.967010568048988, 0.8408624966767014, 0.9306907332770941, 0.972993112307366, 0.9124184918107203, 0.971958201803196, 0.24834245121400664, 0.7450273536420199, 0.9959292460573009, 0.8755107202657652, 0.7955921807349106, 0.5376928271673943, 0.8687329118483831, 0.9518649587959149, 0.9779199934848752, 0.6663697720100427, 0.31985749056482043, 0.9423445924307946, 0.8237682709047056, 0.9790512228849516, 0.9696040320788073, 0.9963135132066857, 0.24679706783585958, 0.7403912035075787, 0.9747233203151346, 0.9624987406077207, 0.9640858794747826, 0.9777586877003993, 0.9926286662767109, 0.9556866367637487, 0.9630001852816557, 0.9609761401083265, 0.9361421865540677, 0.7903079537058103, 0.972467342214856, 0.946757461076729, 0.9446127631637546, 0.9208151350809923, 0.9926087539949303, 0.8034072024148792, 0.3687376572618042, 0.6185276831488329, 0.9463555217241515, 0.5376094535511419, 0.9202326463586137, 0.33174860056276084, 0.4454909778985645, 0.2085276917823068, 0.39760171264721705, 0.7708990191964017, 0.9336642082326628, 0.9526703065740965, 0.967415281257478, 0.930077709030229, 0.9751197611476865, 0.9942666171448148, 0.9107405787288094, 0.14384700813637324, 0.7361582181096749, 0.110000653280756, 0.9683530701387505, 0.9542991007459751, 0.9852983556218172, 0.9598864432630138, 0.4192670415360492, 0.7807918341309671, 0.9752009741076493, 0.8732065878060971, 0.9915148011815951, 0.9590419818329151, 0.6310024941862754, 0.0168717244434833, 0.22608110754267624, 0.10460469154959647, 0.02024606933217996, 0.9531523323867326, 0.7222003457006538, 0.8068183614800141, 0.16985649715368717, 0.9169527216924429, 0.9794709060512636, 0.9577791241752246, 0.9954243930552747, 0.9864223090687131, 0.9865176073984003, 0.9551067691672711, 0.9531699000569122, 0.9129943635559731, 0.9923086267410249, 0.9499045538274358, 0.00896382476319721, 0.977056899188496, 0.3527063667816007, 0.6375845861052013, 0.9897830531422338, 0.9245278903479994, 0.9888352545416141, 0.7492526574887053, 0.3709682884669439], \"Term\": [\"access\", \"accomplish\", \"account\", \"account\", \"achieve\", \"action\", \"activity\", \"activity\", \"additional\", \"advice_guidance\", \"advisor\", \"again\", \"again_market_news\", \"age\", \"agree\", \"allow\", \"also\", \"amount\", \"app\", \"applicable\", \"apply\", \"approximately\", \"area\", \"arrow\", \"as\", \"ask\", \"assessment\", \"at_all\", \"authentication\", \"available\", \"bank\", \"banking\", \"base\", \"basis\", \"be\", \"be\", \"be\", \"be\", \"below\", \"below\", \"below\", \"below\", \"below\", \"bit\", \"box\", \"browser\", \"business\", \"call\", \"cause\", \"chance\", \"change\", \"charitable\", \"charity\", \"check\", \"child\", \"choose\", \"click\", \"click\", \"client\", \"code\", \"comfortable\", \"communication\", \"community\", \"company\", \"compare\", \"complete\", \"computer\", \"confident\", \"confirm\", \"consider\", \"contact\", \"content\", \"continue\", \"create\", \"current\", \"currently\", \"date\", \"day\", \"decision\", \"delivery\", \"describe\", \"describe\", \"development\", \"different\", \"disagree\", \"do\", \"do\", \"do\", \"do\", \"do\", \"do\", \"do\", \"do\", \"do\", \"do\", \"do\", \"do\", \"do\", \"document\", \"donor_advise\", \"easy\", \"edition\", \"else\", \"email\", \"emergency\", \"engage\", \"enrol\", \"enter\", \"establish\", \"ever\", \"example\", \"example\", \"exercise\", \"expect\", \"explain\", \"extent\", \"family\", \"favorite\", \"feel\", \"feeling\", \"few\", \"file\", \"financial\", \"find\", \"firm\", \"follow\", \"follow\", \"following\", \"form\", \"frequently\", \"friend\", \"fund\", \"future\", \"general\", \"give\", \"give\", \"go\", \"goal\", \"good\", \"guidance\", \"have\", \"have\", \"have\", \"have\", \"have\", \"helpful\", \"here\", \"household\", \"how\", \"how\", \"how\", \"idea\", \"identity\", \"image\", \"impact\", \"important\", \"include\", \"include\", \"indicate\", \"information\", \"information\", \"insight\", \"intend\", \"interest\", \"interested\", \"interested_gather\", \"internet\", \"interview\", \"introduce\", \"investible\", \"investible_asset\", \"investment\", \"item\", \"just\", \"keep\", \"key\", \"knowledge\", \"last\", \"learn\", \"leave\", \"less\", \"letter\", \"level\", \"like\", \"likely\", \"list\", \"local\", \"log\", \"log\", \"look\", \"look\", \"look\", \"mail\", \"main\", \"make\", \"many\", \"market\", \"market_cd_annuity_brokerage\", \"mean\", \"member\", \"mention\", \"message\", \"minute\", \"mobile\", \"month\", \"monthly\", \"more\", \"most\", \"much\", \"multiple\", \"mutual_fund_money\", \"name\", \"neutral\", \"new\", \"newsletter\", \"next\", \"non\", \"note\", \"notification\", \"now\", \"number\", \"offer\", \"often\", \"one\", \"online\", \"open\", \"opinion\", \"option\", \"other\", \"overall\", \"page\", \"pandemic\", \"participate\", \"participate\", \"partner\", \"password\", \"past\", \"personal\", \"perspective\", \"phone\", \"plan\", \"planner\", \"point\", \"portion\", \"portion\", \"possible\", \"post\", \"previous\", \"primarily\", \"primary\", \"print_directory\", \"priority\", \"process\", \"product\", \"prompt\", \"property\", \"property_that_is_property\", \"provide\", \"provide\", \"public\", \"question\", \"question\", \"rank\", \"ranked\", \"rate\", \"rating\", \"reaction\", \"read\", \"read\", \"read\", \"reason\", \"receive\", \"receive\", \"recommend\", \"reference\", \"regularly\", \"relate\", \"remember\", \"rental\", \"require\", \"resource\", \"response\", \"retirement\", \"retirement\", \"review\", \"role\", \"sample\", \"satisfaction\", \"satisfied\", \"saving\", \"say\", \"scale\", \"scale\", \"schedule\", \"search\", \"second\", \"security\", \"select\", \"service\", \"service\", \"setting\", \"share\", \"show\", \"sign\", \"site\", \"situation\", \"smartphone\", \"so\", \"so_on\", \"somewhat\", \"source\", \"specific\", \"specifically\", \"spend\", \"statement\", \"stock_bond_mutual_fund\", \"such\", \"such\", \"suggestion\", \"system\", \"tablet\", \"take\", \"take\", \"take\", \"takeaway\", \"task\", \"tax\", \"tell\", \"term\", \"text\", \"then\", \"think\", \"third\", \"time\", \"time\", \"time\", \"tool\", \"top\", \"topic\", \"total\", \"totally\", \"transaction\", \"type\", \"typically\", \"understand\", \"update\", \"use\", \"use\", \"use\", \"use\", \"use\", \"user\", \"utilize\", \"value\", \"value\", \"value_primary_residence\", \"ve\", \"very\", \"video\", \"view\", \"want\", \"way\", \"web\", \"webpage\", \"website\", \"week\", \"when\", \"when\", \"where\", \"where\", \"why\", \"window\", \"work\", \"worry\", \"zip\"]}, \"R\": 30, \"lambda.step\": 0.01, \"plot.opts\": {\"xlab\": \"PC1\", \"ylab\": \"PC2\"}, \"topic.order\": [14, 8, 20, 3, 16, 4, 11, 9, 25, 22, 17, 19, 6, 1, 24, 13, 23, 5, 18, 10, 7, 12, 2, 21, 15]};\n",
       "\n",
       "function LDAvis_load_lib(url, callback){\n",
       "  var s = document.createElement('script');\n",
       "  s.src = url;\n",
       "  s.async = true;\n",
       "  s.onreadystatechange = s.onload = callback;\n",
       "  s.onerror = function(){console.warn(\"failed to load library \" + url);};\n",
       "  document.getElementsByTagName(\"head\")[0].appendChild(s);\n",
       "}\n",
       "\n",
       "if(typeof(LDAvis) !== \"undefined\"){\n",
       "   // already loaded: just create the visualization\n",
       "   !function(LDAvis){\n",
       "       new LDAvis(\"#\" + \"ldavis_el634823950707292887393767696\", ldavis_el634823950707292887393767696_data);\n",
       "   }(LDAvis);\n",
       "}else if(typeof define === \"function\" && define.amd){\n",
       "   // require.js is available: use it to load d3/LDAvis\n",
       "   require.config({paths: {d3: \"https://d3js.org/d3.v5\"}});\n",
       "   require([\"d3\"], function(d3){\n",
       "      window.d3 = d3;\n",
       "      LDAvis_load_lib(\"https://cdn.jsdelivr.net/gh/bmabey/pyLDAvis@3.3.1/pyLDAvis/js/ldavis.v3.0.0.js\", function(){\n",
       "        new LDAvis(\"#\" + \"ldavis_el634823950707292887393767696\", ldavis_el634823950707292887393767696_data);\n",
       "      });\n",
       "    });\n",
       "}else{\n",
       "    // require.js not available: dynamically load d3 & LDAvis\n",
       "    LDAvis_load_lib(\"https://d3js.org/d3.v5.js\", function(){\n",
       "         LDAvis_load_lib(\"https://cdn.jsdelivr.net/gh/bmabey/pyLDAvis@3.3.1/pyLDAvis/js/ldavis.v3.0.0.js\", function(){\n",
       "                 new LDAvis(\"#\" + \"ldavis_el634823950707292887393767696\", ldavis_el634823950707292887393767696_data);\n",
       "            })\n",
       "         });\n",
       "}\n",
       "</script>"
      ],
      "text/plain": [
       "PreparedData(topic_coordinates=              x         y  topics  cluster       Freq\n",
       "topic                                                \n",
       "13     0.223617  0.485620       1        1  19.828054\n",
       "7      0.439165 -0.022212       2        1   7.021293\n",
       "19    -0.449315 -0.128607       3        1   5.653083\n",
       "2      0.416143  0.113283       4        1   5.608744\n",
       "15    -0.444157  0.001263       5        1   5.313371\n",
       "3     -0.288736 -0.183816       6        1   5.151643\n",
       "10     0.305848 -0.096458       7        1   5.059265\n",
       "8     -0.384477  0.140238       8        1   3.915415\n",
       "24     0.263068 -0.366764       9        1   3.876236\n",
       "21     0.403361 -0.255552      10        1   3.439110\n",
       "16     0.310048  0.268454      11        1   3.289304\n",
       "18     0.219704  0.112539      12        1   3.200728\n",
       "5      0.120588 -0.383332      13        1   3.143135\n",
       "0     -0.267081 -0.366259      14        1   3.051554\n",
       "23    -0.136726 -0.358660      15        1   2.753054\n",
       "12    -0.169057  0.093502      16        1   2.633337\n",
       "22    -0.301941  0.287843      17        1   2.482563\n",
       "4      0.088427  0.260512      18        1   2.333186\n",
       "17     0.032652 -0.181079      19        1   2.282857\n",
       "9      0.005805  0.420145      20        1   2.205820\n",
       "6     -0.093104  0.273154      21        1   2.118924\n",
       "11    -0.199467  0.372909      22        1   2.033528\n",
       "1     -0.126970 -0.104889      23        1   1.842927\n",
       "20    -0.007019 -0.375483      24        1   1.411735\n",
       "14     0.039622 -0.006351      25        1   0.351130, topic_info=         Term         Freq        Total Category  logprob  loglift\n",
       "12         be  2300.000000  2300.000000  Default  30.0000  30.0000\n",
       "44    account   384.000000   384.000000  Default  29.0000  29.0000\n",
       "14       have   576.000000   576.000000  Default  28.0000  28.0000\n",
       "329     video   354.000000   354.000000  Default  27.0000  27.0000\n",
       "4         how   750.000000   750.000000  Default  26.0000  26.0000\n",
       "..        ...          ...          ...      ...      ...      ...\n",
       "454       see     0.021969     1.292245  Topic25  -8.1752   1.5773\n",
       "379       set     0.021969     1.292239  Topic25  -8.1752   1.5773\n",
       "922       own     0.021969     1.292240  Topic25  -8.1752   1.5773\n",
       "507    screen     0.021969     1.292246  Topic25  -8.1752   1.5773\n",
       "887  download     0.021969     1.292237  Topic25  -8.1752   1.5773\n",
       "\n",
       "[957 rows x 6 columns], token_table=      Topic      Freq        Term\n",
       "term                             \n",
       "43       17  0.993064      access\n",
       "114      15  0.712448  accomplish\n",
       "44        2  0.132612     account\n",
       "44       12  0.863279     account\n",
       "204      10  0.466623     achieve\n",
       "...     ...       ...         ...\n",
       "40        8  0.989783         why\n",
       "296       1  0.924528      window\n",
       "198       4  0.988835        work\n",
       "340      20  0.749253       worry\n",
       "201      17  0.370968         zip\n",
       "\n",
       "[375 rows x 3 columns], R=30, lambda_step=0.01, plot_opts={'xlab': 'PC1', 'ylab': 'PC2'}, topic_order=[14, 8, 20, 3, 16, 4, 11, 9, 25, 22, 17, 19, 6, 1, 24, 13, 23, 5, 18, 10, 7, 12, 2, 21, 15])"
      ]
     },
     "execution_count": 22,
     "metadata": {},
     "output_type": "execute_result"
    }
   ],
   "source": [
    "vis"
   ]
  },
  {
   "cell_type": "code",
   "execution_count": 82,
   "metadata": {},
   "outputs": [],
   "source": [
    "'''# loading model\n",
    "new_model = gensim.models.ldamodel.LdaModel.load('models/test_model.model')'''"
   ]
  }
 ],
 "metadata": {
  "kernelspec": {
   "display_name": "Python 3 (ipykernel)",
   "language": "python",
   "name": "python3"
  },
  "language_info": {
   "codemirror_mode": {
    "name": "ipython",
    "version": 3
   },
   "file_extension": ".py",
   "mimetype": "text/x-python",
   "name": "python",
   "nbconvert_exporter": "python",
   "pygments_lexer": "ipython3",
   "version": "3.9.7"
  }
 },
 "nbformat": 4,
 "nbformat_minor": 4
}
